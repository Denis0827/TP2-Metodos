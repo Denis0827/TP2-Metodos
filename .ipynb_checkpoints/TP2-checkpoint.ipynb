{
 "cells": [
  {
   "cell_type": "code",
   "execution_count": 1371,
   "id": "f78cc988-6e22-4236-bf2b-bb74a23c5218",
   "metadata": {},
   "outputs": [
    {
     "name": "stdout",
     "output_type": "stream",
     "text": [
      "Ahora estás en: C:\\Users\\Denis Wu\\Desktop\\TP2-Metodos\n"
     ]
    }
   ],
   "source": [
    "from PIL import Image\n",
    "from pathlib import Path\n",
    "import numpy as np\n",
    "import os\n",
    "\n",
    "os.chdir(r\"C:\\Users\\Denis Wu\\Desktop\\TP2-Metodos\")\n",
    "\n",
    "print(\"Ahora estás en:\", os.getcwd())\n"
   ]
  },
  {
   "cell_type": "markdown",
   "id": "6e855833-9fc8-4a60-bfa9-e9c14dea761b",
   "metadata": {},
   "source": [
    "Función para vectorizar la imagen en 256x256x1"
   ]
  },
  {
   "cell_type": "code",
   "execution_count": 1372,
   "id": "370fa3bd-8025-4ce7-b643-c93902283e3b",
   "metadata": {},
   "outputs": [],
   "source": [
    "def vectorizar_imagen(ruta, size=(256, 256), normalizar=False):\n",
    "    img = Image.open(ruta) \n",
    "    img = img.resize(size) # redimensiona la imagen\n",
    "    gray = img.convert('L') # transforma a escala de grises\n",
    "    vector = np.array(gray).flatten().reshape(-1, 1)\n",
    "    \n",
    "    if normalizar: # normalizar el vector\n",
    "        vector = vector / 255.0\n",
    "\n",
    "    return vector"
   ]
  },
  {
   "cell_type": "markdown",
   "id": "8da596a9-60a5-4f84-936a-1ac7d0b9f665",
   "metadata": {},
   "source": [
    "Función para calcular la predicción del modelo"
   ]
  },
  {
   "cell_type": "code",
   "execution_count": 1373,
   "id": "657e31e4-a6e5-4990-87ed-3c5860743d4f",
   "metadata": {},
   "outputs": [],
   "source": [
    "def prediccion(i, w, b):\n",
    "    z = np.dot(w.T, i) + b  # w.T tiene shape (1, 65536)\n",
    "    return ((np.tanh(z) + 1) / 2).item()"
   ]
  },
  {
   "cell_type": "markdown",
   "id": "4d590460-67a0-49cb-a3b0-214a2812e026",
   "metadata": {},
   "source": [
    "Función para calcular el error cuadrático dado un w y b, utilizando el modelo propuesto"
   ]
  },
  {
   "cell_type": "code",
   "execution_count": 1374,
   "id": "1f0d6eab-1c94-47cb-aac7-b13b37815e44",
   "metadata": {},
   "outputs": [],
   "source": [
    "def error_cuadratico(carpeta, w, b, size=(256, 256), normalizar=False):\n",
    "    error_total = 0.0\n",
    "    contador = 0\n",
    "    \n",
    "    for archivo in os.listdir(carpeta):\n",
    "        if archivo.lower().endswith(('.png', '.jpg', '.jpeg')):\n",
    "            # si tiene parkison, el diagnóstico es positivo (1), sino es negativo (0)\n",
    "            if archivo.startswith(\"Healthy\"): \n",
    "                d = 0\n",
    "            elif archivo.startswith(\"Parkinson\"):\n",
    "                d = 1\n",
    "            ruta = os.path.join(carpeta, archivo)\n",
    "            i = vectorizar_imagen(ruta, size=size, normalizar=normalizar)\n",
    "            pred = prediccion(i, w, b) # calculo la predicción\n",
    "            error_total += (pred - d) ** 2 # sumo el error parcial al total\n",
    "            contador += 1\n",
    "\n",
    "    return error_total / contador"
   ]
  },
  {
   "cell_type": "markdown",
   "id": "6938f9d7-1898-4b42-a5a1-859e403ec25d",
   "metadata": {},
   "source": [
    "Función para calcular la derivada parcial contra w de la función de pérdida"
   ]
  },
  {
   "cell_type": "code",
   "execution_count": 1375,
   "id": "0c4ba29e-aae8-4303-8f68-0f3ab1525eac",
   "metadata": {},
   "outputs": [],
   "source": [
    "def derivada_parcial_w(carpeta, w, b, size=(256, 256), normalizar=False):\n",
    "    derivada_w_total = np.zeros_like(w)\n",
    "    \n",
    "    for archivo in os.listdir(carpeta):\n",
    "        if archivo.lower().endswith(('.png', '.jpg', '.jpeg')):\n",
    "            if archivo.startswith(\"Healthy\"):\n",
    "                d = 0\n",
    "            elif archivo.startswith(\"Parkinson\"):\n",
    "                d = 1\n",
    "\n",
    "            ruta = os.path.join(carpeta, archivo)\n",
    "            i = vectorizar_imagen(ruta, size=size, normalizar=normalizar)\n",
    "            z = np.dot(w.T, i) + b\n",
    "            t0 = np.tanh(z)\n",
    "            pred = (t0 + 1) / 2\n",
    "            derivada_w_total += (1 - t0**2) * (pred - d) * i\n",
    "    \n",
    "    return derivada_w_total"
   ]
  },
  {
   "cell_type": "markdown",
   "id": "219a6902-064f-4900-87c5-178ba570ba2e",
   "metadata": {},
   "source": [
    "Función para calcular la derivada parcial contra b de la función de pérdida"
   ]
  },
  {
   "cell_type": "code",
   "execution_count": 1376,
   "id": "b6c40c86-c4b9-4132-9d8e-b79e33727f08",
   "metadata": {},
   "outputs": [],
   "source": [
    "def derivada_parcial_b(carpeta, w, b, size=(256, 256), normalizar=False):\n",
    "    derivada_b_total = 0.0\n",
    "\n",
    "    for archivo in os.listdir(carpeta):\n",
    "        if archivo.lower().endswith(('.png', '.jpg', '.jpeg')):\n",
    "            if archivo.startswith(\"Healthy\"):\n",
    "                d = 0\n",
    "            elif archivo.startswith(\"Parkinson\"):\n",
    "                d = 1\n",
    "            ruta = os.path.join(carpeta, archivo)\n",
    "            i = vectorizar_imagen(ruta, size=size, normalizar=normalizar)\n",
    "            z = np.dot(w.T, i) + b\n",
    "            t0 = np.tanh(z)\n",
    "            pred = (t0 + 1) / 2\n",
    "            derivada_b_total += (1 - t0**2) * (pred - d)\n",
    "    \n",
    "    return (derivada_b_total).item()"
   ]
  },
  {
   "cell_type": "markdown",
   "id": "e9c72cdf-3f57-47e2-bf97-c79e848ab8e4",
   "metadata": {},
   "source": [
    "Función para aplicar la regla de actualización para w y b"
   ]
  },
  {
   "cell_type": "code",
   "execution_count": 1377,
   "id": "06ba7a30-617d-46a4-9f89-dd57939c11b4",
   "metadata": {},
   "outputs": [],
   "source": [
    "def actualizacion(carpeta, w, b, alpha, size=(256, 256), normalizar=False):\n",
    "    derivada_w = derivada_parcial_w(carpeta, w, b, size=size, normalizar=normalizar)\n",
    "    derivada_b = derivada_parcial_b(carpeta, w, b, size=size, normalizar=normalizar)\n",
    "    w_nuevo = w - alpha * derivada_w\n",
    "    b_nuevo = b - alpha * derivada_b\n",
    "    return w_nuevo, b_nuevo"
   ]
  },
  {
   "cell_type": "markdown",
   "id": "a1ad0e36-f714-4c50-9309-e258f0ed9038",
   "metadata": {},
   "source": [
    "Función para recorrer por una única iteración el algoritmo de búsqueda"
   ]
  },
  {
   "cell_type": "markdown",
   "id": "3c891406-7757-41e9-aa03-b5bb916fef17",
   "metadata": {},
   "source": [
    "Función para repetir el método de descenso de gradiente por cierta cantidad de iteraciones"
   ]
  },
  {
   "cell_type": "code",
   "execution_count": 1378,
   "id": "97e8f588-2945-44a4-b3ea-0bbe1dd394a3",
   "metadata": {},
   "outputs": [],
   "source": [
    "def entrenar_descenso_gradiente(carpeta, w_inicial, b_inicial, alpha, size=(256, 256), normalizar=False, repeticiones=10, epsilon=0.0000001):\n",
    "    w = w_inicial.copy()\n",
    "    b = b_inicial\n",
    "    \n",
    "    # Listas para almacenar el historial de errores\n",
    "    errores_entrenamiento = []\n",
    "    \n",
    "    error_anterior = error_cuadratico(carpeta, w, b, size=size, normalizar=normalizar)\n",
    "    errores_entrenamiento.append(error_anterior)\n",
    "    \n",
    "    print(f\"Error inicial: {error_anterior}\")\n",
    "    \n",
    "    for i in range(repeticiones):\n",
    "        # Actualizar parámetros\n",
    "        w, b = actualizacion(carpeta, w, b, alpha, size=size, normalizar=normalizar)\n",
    "        \n",
    "        # Calcular nuevo error\n",
    "        error_actual = error_cuadratico(carpeta, w, b, size=size, normalizar=normalizar)\n",
    "        errores_entrenamiento.append(error_actual)\n",
    "        \n",
    "        # Mostrar progreso cada 100 iteraciones\n",
    "        print(f\"Iteración {i}, Error: {error_actual}\")\n",
    "        \n",
    "        # Verificar convergencia\n",
    "        if (abs(error_actual - error_anterior)) < epsilon:\n",
    "            print(f\"Convergencia alcanzada en la iteración {i}\")\n",
    "            break\n",
    "        \n",
    "        error_anterior = error_actual\n",
    "    \n",
    "    return w, b, errores_entrenamiento"
   ]
  },
  {
   "cell_type": "code",
   "execution_count": null,
   "id": "d22d9134-13ef-47fc-a5fc-6a37dce943d3",
   "metadata": {},
   "outputs": [],
   "source": []
  },
  {
   "cell_type": "code",
   "execution_count": 1379,
   "id": "c3a3396f-8da8-4a60-8b83-53fffd23a1c6",
   "metadata": {},
   "outputs": [],
   "source": [
    "base = os.getcwd()\n"
   ]
  },
  {
   "cell_type": "raw",
   "id": "22e3d295-4ae9-480f-a096-4c677c8bc463",
   "metadata": {},
   "source": [
    "Función para calcular accuracy"
   ]
  },
  {
   "cell_type": "code",
   "execution_count": 1380,
   "id": "ae008322-39f2-4676-b309-586f82f2f837",
   "metadata": {},
   "outputs": [],
   "source": [
    "def calcular_accuracy(carpeta, w, b, size=(256, 256), normalizar=False, umbral=0.5):\n",
    "    correctos = 0\n",
    "    total = 0\n",
    "    \n",
    "    for archivo in os.listdir(carpeta):\n",
    "        if archivo.lower().endswith(('.png', '.jpg', '.jpeg')):\n",
    "            if archivo.startswith(\"Healthy\"): \n",
    "                d = 0\n",
    "            elif archivo.startswith(\"Parkinson\"):\n",
    "                d = 1            \n",
    "            ruta = os.path.join(carpeta, archivo)\n",
    "            i = vectorizar_imagen(ruta, size=size, normalizar=normalizar)\n",
    "            pred = prediccion(i, w, b)\n",
    "            pred_clase = 1 if pred > umbral else 0\n",
    "                \n",
    "            if pred_clase == d:\n",
    "                correctos += 1\n",
    "            total += 1\n",
    "    \n",
    "    if total == 0:\n",
    "        return 0.0\n",
    "    \n",
    "    return correctos / total"
   ]
  },
  {
   "cell_type": "raw",
   "id": "ddc44d2d-b9c9-4e69-8137-19e9071eddcb",
   "metadata": {},
   "source": [
    "Función para calcular matriz de confusión"
   ]
  },
  {
   "cell_type": "code",
   "execution_count": 1381,
   "id": "6a476810-f4b2-46e5-aa10-e570a6c8757e",
   "metadata": {},
   "outputs": [],
   "source": [
    "def matriz_confusion(carpeta, w, b, size=(256, 256), normalizar=False, umbral=0.5):\n",
    "    vp = 0\n",
    "    fp = 0\n",
    "    vn = 0\n",
    "    fn = 0\n",
    "    \n",
    "    for archivo in os.listdir(carpeta):\n",
    "        if archivo.lower().endswith(('.png', '.jpg', '.jpeg')):\n",
    "            if archivo.startswith(\"Healthy\"): \n",
    "                d = 0\n",
    "            elif archivo.startswith(\"Parkinson\"):\n",
    "                d = 1\n",
    "\n",
    "            ruta = os.path.join(carpeta, archivo)\n",
    "            i = vectorizar_imagen(ruta, size=size, normalizar=normalizar)\n",
    "            pred = prediccion(i, w, b)\n",
    "            pred_clase = 1 if pred > umbral else 0\n",
    "\n",
    "            if d == 1 and pred_clase == 1:\n",
    "                vp += 1\n",
    "            elif d == 0 and pred_clase == 1:\n",
    "                fp += 1\n",
    "            elif d == 0 and pred_clase == 0:\n",
    "                vn += 1\n",
    "            elif d == 1 and pred_clase == 0:\n",
    "                fn += 1\n",
    "\n",
    "    return vp, fp, vn, fn"
   ]
  },
  {
   "cell_type": "raw",
   "id": "408a702c-793e-4096-ba83-9e25e476437a",
   "metadata": {},
   "source": [
    "Función para visualizar resultados"
   ]
  },
  {
   "cell_type": "code",
   "execution_count": 1382,
   "id": "63777de6-acd5-457b-a9fe-6a6cd8214d46",
   "metadata": {},
   "outputs": [],
   "source": [
    "def visualizar_entrenamiento(errores):\n",
    "    plt.figure(figsize=(10, 6))\n",
    "    plt.plot(errores)\n",
    "    plt.title('Evolución del Error Durante el Entrenamiento')\n",
    "    plt.xlabel('Iteración')\n",
    "    plt.ylabel('Error Cuadrático')\n",
    "    plt.grid(True)\n",
    "    plt.show()"
   ]
  },
  {
   "cell_type": "raw",
   "id": "27d9075e-667d-4806-a372-f811ade0644c",
   "metadata": {},
   "source": [
    "Función principal para ejecutar el entrenamiento"
   ]
  },
  {
   "cell_type": "code",
   "execution_count": 1383,
   "id": "2f192d08-2c8e-4618-a6b3-20dc176408b0",
   "metadata": {},
   "outputs": [],
   "source": [
    "def ejecutar_entrenamiento(carpeta_entrenamiento, carpeta_testing=None, size=(256, 256), normalizar=False, alpha=0.01, repeticiones=1000):\n",
    "    # Verificar que la carpeta existe\n",
    "    if not os.path.exists(carpeta_entrenamiento):\n",
    "        print(f\"Error: La carpeta {carpeta_entrenamiento} no existe\")\n",
    "        print(f\"Directorio actual: {os.getcwd()}\")\n",
    "        print(\"Archivos y carpetas disponibles:\")\n",
    "        for item in os.listdir('.'):\n",
    "            print(f\"  - {item}\")\n",
    "        return None, None, None\n",
    "\n",
    "    # Inicializar parámetros\n",
    "    n = size[0] * size[1]\n",
    "    w = np.random.randn(n, 1) * (1 / np.sqrt(n))\n",
    "    b = 0.0\n",
    "    \n",
    "    print(f\"Iniciando entrenamiento con:\")\n",
    "    print(f\"  - Tamaño de imagen: {size}\")\n",
    "    print(f\"  - Normalización: {normalizar}\")\n",
    "    print(f\"  - Alpha: {alpha}\")\n",
    "    print(f\"  - Repeticiones: {repeticiones}\")\n",
    "    print(f\"  - Dimensión de w: {w.shape}\")\n",
    "\n",
    "    # Entrenar el modelo\n",
    "    w_final, b_final, errores = entrenar_descenso_gradiente(carpeta_entrenamiento, w, b, alpha, size=size, \n",
    "                                                            normalizar=normalizar, repeticiones=repeticiones)\n",
    "\n",
    "    # Calcular accuracy en entrenamiento\n",
    "    acc_entrenamiento = calcular_accuracy(carpeta_entrenamiento, w_final, b_final, size=size, normalizar=normalizar)\n",
    "    print(f\"Accuracy en entrenamiento: {acc_entrenamiento:.4f}\")\n",
    "\n",
    "    # Calcular accuracy en testing si se proporciona\n",
    "    if carpeta_testing and os.path.exists(carpeta_testing):\n",
    "        acc_testing = calcular_accuracy(carpeta_testing, w_final, b_final, size=size, normalizar=normalizar)\n",
    "        print(f\"Accuracy en testing: {acc_testing:.4f}\")\n",
    "\n",
    "    # Visualizar entrenamiento\n",
    "    visualizar_entrenamiento(errores)\n",
    "    \n",
    "    return w_final, b_final, errores\n"
   ]
  },
  {
   "cell_type": "code",
   "execution_count": 1384,
   "id": "aa45a620-0069-428a-bba1-0d6d1abdd154",
   "metadata": {},
   "outputs": [
    {
     "name": "stdout",
     "output_type": "stream",
     "text": [
      "Vector shape: (65536, 1)\n",
      "Valores min y max: 0 255\n",
      "Predicción ejemplo: 0.9999571337952923\n",
      "Error cuadrático ejemplo: 0.4999140206614317\n",
      "Derivada parcial w - norma: 12984.060744451122\n",
      "Derivada parcial b: 0.2578212058385838\n",
      "Cambio relativo en w: 0.444276321879054\n",
      "Nuevo b: -1.9856746738401272e-07\n",
      "\n",
      "Probando accuracy...\n",
      "Accuracy ejemplo: 0.5\n",
      "\n",
      "Probando matriz de confusión...\n",
      "VP: 0, FP: 0, VN: 750, FN: 750\n",
      "Error inicial: 0.4999140206614317\n",
      "Iteración 0, Error: 0.5\n",
      "Iteración 1, Error: 0.5\n",
      "Convergencia alcanzada en la iteración 1\n",
      "\n",
      "Probando accuracy...\n",
      "Accuracy ejemplo: 0.5\n",
      "\n",
      "Probando matriz de confusión...\n",
      "VP: 0, FP: 0, VN: 750, FN: 750\n",
      "\n",
      "Pesos finales w:\n",
      "[[-7.08698064e-05]\n",
      " [ 3.94720857e-06]\n",
      " [ 3.14872424e-05]\n",
      " ...\n",
      " [-1.30911325e-04]\n",
      " [ 1.30189012e-04]\n",
      " [-1.52069291e-04]]\n",
      "[[-1.07195630e-04]\n",
      " [-3.23730825e-05]\n",
      " [-4.96092681e-06]\n",
      " ...\n",
      " [-1.67309810e-04]\n",
      " [ 9.39317995e-05]\n",
      " [-1.88379192e-04]]\n",
      "[[-0.04723654]\n",
      " [-0.04715454]\n",
      " [-0.04729304]\n",
      " ...\n",
      " [-0.04739092]\n",
      " [-0.0469464 ]\n",
      " [-0.04729707]]\n"
     ]
    }
   ],
   "source": [
    "if __name__ == \"__main__\":\n",
    "    carpeta_entrenamiento = r\"C:\\Users\\Denis Wu\\Desktop\\TP2-Metodos\\Entrenamiento\"\n",
    "    \n",
    "    archivos = [f for f in os.listdir(carpeta_entrenamiento) if f.lower().endswith(('.png','.jpg','.jpeg'))]\n",
    "    if not archivos:\n",
    "        print(\"No se encontraron imágenes en la carpeta de entrenamiento\")\n",
    "        exit()\n",
    "    \n",
    "    ruta_ejemplo = os.path.join(carpeta_entrenamiento, archivos[0])\n",
    "    vector = vectorizar_imagen(ruta_ejemplo, normalizar=False)\n",
    "    \n",
    "    print(\"Vector shape:\", vector.shape)\n",
    "    print(\"Valores min y max:\", vector.min(), vector.max())\n",
    "\n",
    "    escala = 5 / (128 * np.sqrt(256**2))  # estimación conservadora\n",
    "    w_test = np.random.uniform(-escala, escala, size=(256**2, 1))\n",
    "\n",
    "    b_test = 0.0\n",
    "\n",
    "    pred = prediccion(vector, w_test, b_test)\n",
    "    print(\"Predicción ejemplo:\", pred)\n",
    "    \n",
    "    error = error_cuadratico(carpeta_entrenamiento, w_test, b_test, normalizar=False)\n",
    "    print(\"Error cuadrático ejemplo:\", error)\n",
    "    \n",
    "    dw = derivada_parcial_w(carpeta_entrenamiento, w_test, b_test, normalizar=False)\n",
    "    db = derivada_parcial_b(carpeta_entrenamiento, w_test, b_test, normalizar=False)\n",
    "    print(\"Derivada parcial w - norma:\", np.linalg.norm(dw))\n",
    "    print(\"Derivada parcial b:\", db)\n",
    "\n",
    "    alpha = 1e-2 / np.linalg.norm(dw)\n",
    "    w_n, b_n = actualizacion(carpeta_entrenamiento, w_test, b_test, alpha=alpha, normalizar=False)\n",
    "    print(\"Cambio relativo en w:\", np.linalg.norm(w_n - w_test) / np.linalg.norm(w_test))\n",
    "    print(\"Nuevo b:\", b_n)\n",
    "\n",
    "    print(\"\\nProbando accuracy...\")\n",
    "    acc = calcular_accuracy(carpeta_entrenamiento, w_n, b_n, normalizar=False)\n",
    "    print(\"Accuracy ejemplo:\", acc)\n",
    "    \n",
    "    print(\"\\nProbando matriz de confusión...\")\n",
    "    vp, fp, vn, fn = matriz_confusion(carpeta_entrenamiento, w_n, b_n, normalizar=False)\n",
    "    print(f\"VP: {vp}, FP: {fp}, VN: {vn}, FN: {fn}\")\n",
    "\n",
    "    w_nuevo, b_nuevo, errores = entrenar_descenso_gradiente(carpeta_entrenamiento, w_test, b_test, alpha=0.001)\n",
    "\n",
    "    print(\"\\nProbando accuracy...\")\n",
    "    acc = calcular_accuracy(carpeta_entrenamiento, w_nuevo, b_nuevo, normalizar=False)\n",
    "    print(\"Accuracy ejemplo:\", acc)\n",
    "    \n",
    "    print(\"\\nProbando matriz de confusión...\")\n",
    "    vp, fp, vn, fn = matriz_confusion(carpeta_entrenamiento, w_nuevo, b_nuevo, normalizar=False)\n",
    "    print(f\"VP: {vp}, FP: {fp}, VN: {vn}, FN: {fn}\")\n",
    "\n",
    "    print(\"\\nPesos finales w:\")\n",
    "    print(w_test)\n",
    "    print(w_n)\n",
    "    print(w_nuevo)"
   ]
  },
  {
   "cell_type": "code",
   "execution_count": null,
   "id": "496ccf10-b407-4d4f-8ef0-5b4b1e035f48",
   "metadata": {},
   "outputs": [],
   "source": []
  }
 ],
 "metadata": {
  "kernelspec": {
   "display_name": "Python 3 (ipykernel)",
   "language": "python",
   "name": "python3"
  },
  "language_info": {
   "codemirror_mode": {
    "name": "ipython",
    "version": 3
   },
   "file_extension": ".py",
   "mimetype": "text/x-python",
   "name": "python",
   "nbconvert_exporter": "python",
   "pygments_lexer": "ipython3",
   "version": "3.12.7"
  }
 },
 "nbformat": 4,
 "nbformat_minor": 5
}
