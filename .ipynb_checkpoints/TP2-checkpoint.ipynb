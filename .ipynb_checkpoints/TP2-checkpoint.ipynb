{
 "cells": [
  {
   "cell_type": "code",
   "execution_count": 253,
   "id": "f78cc988-6e22-4236-bf2b-bb74a23c5218",
   "metadata": {},
   "outputs": [
    {
     "name": "stdout",
     "output_type": "stream",
     "text": [
      "Ahora estás en: C:\\Users\\46028205\\Downloads\\TP2_Metodos\n"
     ]
    }
   ],
   "source": [
    "from PIL import Image\n",
    "from pathlib import Path\n",
    "import numpy as np\n",
    "import os\n",
    "\n",
    "os.chdir(r\"C:\\Users\\46028205\\Downloads\\TP2_Metodos\")\n",
    "print(\"Ahora estás en:\", os.getcwd())\n"
   ]
  },
  {
   "cell_type": "markdown",
   "id": "6e855833-9fc8-4a60-bfa9-e9c14dea761b",
   "metadata": {},
   "source": [
    "Función para vectorizar la imagen en 256x256x1"
   ]
  },
  {
   "cell_type": "code",
   "execution_count": 254,
   "id": "370fa3bd-8025-4ce7-b643-c93902283e3b",
   "metadata": {},
   "outputs": [],
   "source": [
    "def vectorizar_imagen(ruta, size=(256, 256), normalizar=False):\n",
    "    img = Image.open(ruta) \n",
    "    img = img.resize(size) # redimensiona la imagen\n",
    "    gray = img.convert('L') # transforma a escala de grises\n",
    "    vector = np.array(gray).flatten().reshape(-1, 1)\n",
    "    \n",
    "    if normalizar: # normalizar el vector\n",
    "        vector = vector / 255.0\n",
    "\n",
    "    return vector"
   ]
  },
  {
   "cell_type": "markdown",
   "id": "8da596a9-60a5-4f84-936a-1ac7d0b9f665",
   "metadata": {},
   "source": [
    "Función para calcular la predicción del modelo"
   ]
  },
  {
   "cell_type": "code",
   "execution_count": 255,
   "id": "657e31e4-a6e5-4990-87ed-3c5860743d4f",
   "metadata": {},
   "outputs": [],
   "source": [
    "def prediccion(i, w, b):\n",
    "    z = np.dot(w.T, i) + b\n",
    "    return ((np.tanh(z) + 1) / 2).item()"
   ]
  },
  {
   "cell_type": "markdown",
   "id": "4d590460-67a0-49cb-a3b0-214a2812e026",
   "metadata": {},
   "source": [
    "Función para calcular el error cuadrático dado un w y b, utilizando el modelo propuesto"
   ]
  },
  {
   "cell_type": "code",
   "execution_count": 256,
   "id": "1f0d6eab-1c94-47cb-aac7-b13b37815e44",
   "metadata": {},
   "outputs": [],
   "source": [
    "def error_cuadratico(carpeta, w, b, size=(256, 256), normalizar=False):\n",
    "    error_total = 0.0\n",
    "    contador = 0\n",
    "    \n",
    "    for archivo in os.listdir(carpeta):\n",
    "        if archivo.lower().endswith(('.png', '.jpg', '.jpeg')):\n",
    "            # si tiene parkison, el diagnóstico es positivo (1), sino es negativo (0)\n",
    "            if archivo.startswith(\"Healthy\"): \n",
    "                d = 0\n",
    "            elif archivo.startswith(\"Parkinson\"):\n",
    "                d = 1\n",
    "            ruta = os.path.join(carpeta, archivo)\n",
    "            i = vectorizar_imagen(ruta, size=size, normalizar=normalizar)\n",
    "            pred = prediccion(i, w, b) # calculo la predicción\n",
    "            error_total += (pred - d) ** 2 # sumo el error parcial al total\n",
    "            contador += 1\n",
    "\n",
    "    return error_total / contador"
   ]
  },
  {
   "cell_type": "markdown",
   "id": "6938f9d7-1898-4b42-a5a1-859e403ec25d",
   "metadata": {},
   "source": [
    "Función para calcular la derivada parcial contra w de la función de pérdida"
   ]
  },
  {
   "cell_type": "code",
   "execution_count": 257,
   "id": "0c4ba29e-aae8-4303-8f68-0f3ab1525eac",
   "metadata": {},
   "outputs": [],
   "source": [
    "def derivada_parcial_w(carpeta, w, b, size=(256, 256), normalizar=False):\n",
    "    derivada_w_total = 0.0\n",
    "    contador = 0\n",
    "    \n",
    "    for archivo in os.listdir(carpeta):\n",
    "        if archivo.lower().endswith(('.png', '.jpg', '.jpeg')):\n",
    "            if archivo.startswith(\"Healthy\"):\n",
    "                d = 0\n",
    "            elif archivo.startswith(\"Parkinson\"):\n",
    "                d = 1\n",
    "            ruta = os.path.join(carpeta, archivo)\n",
    "            i = vectorizar_imagen(ruta, size=size, normalizar=normalizar)\n",
    "            ruta = os.path.join(carpeta, archivo)\n",
    "            z = np.dot(w.T, i) + b\n",
    "            t0 = np.tanh(np.dot(w.T, i) + b)[0, 0]\n",
    "            pred = (t0 + 1) / 2\n",
    "            derivada_w_total += (1 - t0**2) * (((1 + t0) / 2) - d) * i\n",
    "            contador += 1\n",
    "\n",
    "    if contador == 0:\n",
    "        return np.zeros_like(w)\n",
    "    \n",
    "    return derivada_w_total / contador"
   ]
  },
  {
   "cell_type": "markdown",
   "id": "219a6902-064f-4900-87c5-178ba570ba2e",
   "metadata": {},
   "source": [
    "Función para calcular la derivada parcial contra b de la función de pérdida"
   ]
  },
  {
   "cell_type": "code",
   "execution_count": 258,
   "id": "b6c40c86-c4b9-4132-9d8e-b79e33727f08",
   "metadata": {},
   "outputs": [],
   "source": [
    "def derivada_parcial_b(carpeta, w, b, size=(256, 256), normalizar=False):\n",
    "    derivada_b_total = 0.0\n",
    "    cantidad = 0\n",
    "\n",
    "    for archivo in os.listdir(carpeta):\n",
    "        if archivo.lower().endswith(('.png', '.jpg', '.jpeg')):\n",
    "            if archivo.startswith(\"Healthy\"):\n",
    "                d = 0\n",
    "            elif archivo.startswith(\"Parkinson\"):\n",
    "                d = 1\n",
    "            else:\n",
    "                continue  # ignorar archivos no válidos\n",
    "            ruta = os.path.join(carpeta, archivo)\n",
    "            i = vectorizar_imagen(ruta, size=size, normalizar=normalizar)\n",
    "            z = np.dot(w.T, i) + b\n",
    "            f = (np.tanh(z) + 1) / 2\n",
    "            derivada_b_total += (f - d) * (1 - np.tanh(z)**2) / 2\n",
    "            cantidad += 1\n",
    "\n",
    "    return derivada_b_total / cantidad if cantidad > 0 else 0.0"
   ]
  },
  {
   "cell_type": "markdown",
   "id": "e9c72cdf-3f57-47e2-bf97-c79e848ab8e4",
   "metadata": {},
   "source": [
    "Función para aplicar la regla de actualización para w y b"
   ]
  },
  {
   "cell_type": "code",
   "execution_count": 259,
   "id": "06ba7a30-617d-46a4-9f89-dd57939c11b4",
   "metadata": {},
   "outputs": [],
   "source": [
    "def actualizacion(carpeta, w, b, alpha, size=(256, 256), normalizar=False):\n",
    "    derivada_w = derivada_parcial_w(carpeta, w, b, size=size, normalizar=normalizar)\n",
    "    derivada_b = derivada_parcial_b(carpeta, w, b, size=size, normalizar=normalizar)\n",
    "    w_nuevo = w - alpha * derivada_w\n",
    "    b_nuevo = b - alpha * derivada_b\n",
    "    return w_nuevo, b_nuevo"
   ]
  },
  {
   "cell_type": "markdown",
   "id": "a1ad0e36-f714-4c50-9309-e258f0ed9038",
   "metadata": {},
   "source": [
    "Función para recorrer por una única iteración el algoritmo de búsqueda"
   ]
  },
  {
   "cell_type": "code",
   "execution_count": 260,
   "id": "8bc86393-0766-47aa-8f1a-dc889dff31be",
   "metadata": {},
   "outputs": [],
   "source": [
    "def entrenar_iteracion_unica(carpeta, w_inicial, b_inicial, alpha, size=(256, 256), normalizar=False):\n",
    "    return actualizacion(carpeta, w_inicial, b_inicial, alpha, size=size, normalizar=normalizar)"
   ]
  },
  {
   "cell_type": "markdown",
   "id": "3c891406-7757-41e9-aa03-b5bb916fef17",
   "metadata": {},
   "source": [
    "Función para repetir el método de descenso de gradiente por cierta cantidad de iteraciones"
   ]
  },
  {
   "cell_type": "code",
   "execution_count": 261,
   "id": "97e8f588-2945-44a4-b3ea-0bbe1dd394a3",
   "metadata": {},
   "outputs": [],
   "source": [
    "def entrenar_descenso_gradiente(carpeta, w_inicial, b_inicial, alpha, size=(256, 256), normalizar=False, repeticiones=1000, epsilon=1e-6):\n",
    "    w = w_inicial.copy()\n",
    "    b = b_inicial\n",
    "    \n",
    "    # Listas para almacenar el historial de errores\n",
    "    errores_entrenamiento = []\n",
    "    \n",
    "    error_anterior = error_cuadratico(carpeta, w, b, size=size, normalizar=normalizar)\n",
    "    errores_entrenamiento.append(error_anterior)\n",
    "    \n",
    "    print(f\"Error inicial: {error_anterior}\")\n",
    "    \n",
    "    for i in range(repeticiones):\n",
    "        # Actualizar parámetros\n",
    "        w, b = actualizacion(carpeta, w, b, alpha, size=size, normalizar=normalizar)\n",
    "        \n",
    "        # Calcular nuevo error\n",
    "        error_actual = error_cuadratico(carpeta, w, b, size=size, normalizar=normalizar)\n",
    "        errores_entrenamiento.append(error_actual)\n",
    "        \n",
    "        # Mostrar progreso cada 100 iteraciones\n",
    "        if i % 100 == 0:\n",
    "            print(f\"Iteración {i}, Error: {error_actual}\")\n",
    "        \n",
    "        # Verificar convergencia\n",
    "        if abs(error_actual - error_anterior) < epsilon:\n",
    "            print(f\"Convergencia alcanzada en la iteración {i}\")\n",
    "            break\n",
    "        \n",
    "        error_anterior = error_actual\n",
    "    \n",
    "    return w, b, errores_entrenamiento"
   ]
  },
  {
   "cell_type": "code",
   "execution_count": 262,
   "id": "d22d9134-13ef-47fc-a5fc-6a37dce943d3",
   "metadata": {},
   "outputs": [
    {
     "name": "stdout",
     "output_type": "stream",
     "text": [
      "Estoy parado en: C:\\Users\\46028205\\Downloads\\TP2_Metodos\n",
      "Error inicial: 0.5\n",
      "Iteración 0, Error: 0.5\n",
      "Convergencia alcanzada en la iteración 0\n"
     ]
    },
    {
     "data": {
      "text/plain": [
       "(array([[-0.00549953],\n",
       "        [ 0.00537307],\n",
       "        [-0.00320499],\n",
       "        ...,\n",
       "        [-0.004001  ],\n",
       "        [ 0.00170988],\n",
       "        [-0.00089505]]),\n",
       " array([[0.]]),\n",
       " [0.5, 0.5])"
      ]
     },
     "execution_count": 262,
     "metadata": {},
     "output_type": "execute_result"
    }
   ],
   "source": [
    "# Ruta relativa segura desde donde está el notebook (Jupyter usa cwd)\n",
    "carpeta_imagenes = os.path.join(\".\", \"Entrenamiento\")\n",
    "print(\"Estoy parado en:\", os.getcwd())\n",
    "\n",
    "\n",
    "n = 256*256\n",
    "w = np.random.randn(n, 1) * (1 / np.sqrt(n))\n",
    "b = 0.0\n",
    "entrenar_descenso_gradiente(carpeta_imagenes, w_inicial=w, b_inicial=b, alpha=0.01, repeticiones=10, size=(256, 256), normalizar=False)\n",
    "# NO SE QUE HACER CON ESTA PARTE"
   ]
  },
  {
   "cell_type": "code",
   "execution_count": 263,
   "id": "c3a3396f-8da8-4a60-8b83-53fffd23a1c6",
   "metadata": {},
   "outputs": [],
   "source": [
    "base = os.getcwd()\n"
   ]
  },
  {
   "cell_type": "raw",
   "id": "22e3d295-4ae9-480f-a096-4c677c8bc463",
   "metadata": {},
   "source": [
    "Función para calcular accuracy"
   ]
  },
  {
   "cell_type": "code",
   "execution_count": 264,
   "id": "ae008322-39f2-4676-b309-586f82f2f837",
   "metadata": {},
   "outputs": [],
   "source": [
    "def calcular_accuracy(carpeta, w, b, size=(256, 256), normalizar=False, umbral=0.5):\n",
    "    correctos = 0\n",
    "    total = 0\n",
    "    \n",
    "    for archivo in os.listdir(carpeta):\n",
    "        if archivo.lower().endswith(('.png', '.jpg', '.jpeg')):\n",
    "            if archivo.startswith(\"Healthy\"): \n",
    "                d = 0\n",
    "            elif archivo.startswith(\"Parkinson\"):\n",
    "                d = 1            \n",
    "            ruta = os.path.join(carpeta, archivo)\n",
    "            i = vectorizar_imagen(ruta, size=size, normalizar=normalizar)\n",
    "            pred = prediccion(i, w, b)\n",
    "            pred_clase = 1 if pred > umbral else 0\n",
    "                \n",
    "            if pred_clase == d:\n",
    "                correctos += 1\n",
    "            total += 1\n",
    "    \n",
    "    if total == 0:\n",
    "        return 0.0\n",
    "    \n",
    "    return correctos / total"
   ]
  },
  {
   "cell_type": "raw",
   "id": "ddc44d2d-b9c9-4e69-8137-19e9071eddcb",
   "metadata": {},
   "source": [
    "Función para calcular matriz de confusión"
   ]
  },
  {
   "cell_type": "code",
   "execution_count": 265,
   "id": "6a476810-f4b2-46e5-aa10-e570a6c8757e",
   "metadata": {},
   "outputs": [],
   "source": [
    "def matriz_confusion(carpeta, w, b, size=(256, 256), normalizar=False, umbral=0.5):\n",
    "    vp = 0\n",
    "    fp = 0\n",
    "    vn = 0\n",
    "    fn = 0\n",
    "    \n",
    "    for archivo in os.listdir(carpeta):\n",
    "        if archivo.lower().endswith(('.png', '.jpg', '.jpeg')):\n",
    "            if archivo.startswith(\"Healthy\"): \n",
    "                d = 0\n",
    "            elif archivo.startswith(\"Parkinson\"):\n",
    "                d = 1\n",
    "\n",
    "            ruta = os.path.join(carpeta, archivo)\n",
    "            i = vectorizar_imagen(ruta, size=size, normalizar=normalizar)\n",
    "            pred = prediccion(i, w, b)\n",
    "            pred_clase = 1 if pred > umbral else 0\n",
    "\n",
    "            if d == 1 and pred_clase == 1:\n",
    "                vp += 1\n",
    "            elif d == 0 and pred_clase == 1:\n",
    "                fp += 1\n",
    "            elif d == 0 and pred_clase == 0:\n",
    "                vn += 1\n",
    "            elif d == 1 and pred_clase == 0:\n",
    "                fn += 1\n",
    "\n",
    "    return vp, fp, vn, fn"
   ]
  },
  {
   "cell_type": "raw",
   "id": "408a702c-793e-4096-ba83-9e25e476437a",
   "metadata": {},
   "source": [
    "Función para visualizar resultados"
   ]
  },
  {
   "cell_type": "code",
   "execution_count": 266,
   "id": "63777de6-acd5-457b-a9fe-6a6cd8214d46",
   "metadata": {},
   "outputs": [],
   "source": [
    "def visualizar_entrenamiento(errores):\n",
    "    plt.figure(figsize=(10, 6))\n",
    "    plt.plot(errores)\n",
    "    plt.title('Evolución del Error Durante el Entrenamiento')\n",
    "    plt.xlabel('Iteración')\n",
    "    plt.ylabel('Error Cuadrático')\n",
    "    plt.grid(True)\n",
    "    plt.show()"
   ]
  },
  {
   "cell_type": "raw",
   "id": "27d9075e-667d-4806-a372-f811ade0644c",
   "metadata": {},
   "source": [
    "Función principal para ejecutar el entrenamiento"
   ]
  },
  {
   "cell_type": "code",
   "execution_count": 267,
   "id": "2f192d08-2c8e-4618-a6b3-20dc176408b0",
   "metadata": {},
   "outputs": [],
   "source": [
    "def ejecutar_entrenamiento(carpeta_entrenamiento, carpeta_testing=None, size=(256, 256), normalizar=False, alpha=0.01, repeticiones=1000):\n",
    "    # Verificar que la carpeta existe\n",
    "    if not os.path.exists(carpeta_entrenamiento):\n",
    "        print(f\"Error: La carpeta {carpeta_entrenamiento} no existe\")\n",
    "        print(f\"Directorio actual: {os.getcwd()}\")\n",
    "        print(\"Archivos y carpetas disponibles:\")\n",
    "        for item in os.listdir('.'):\n",
    "            print(f\"  - {item}\")\n",
    "        return None, None, None\n",
    "\n",
    "    # Inicializar parámetros\n",
    "    n = size[0] * size[1]\n",
    "    w = np.random.randn(n, 1) * (1 / np.sqrt(n))\n",
    "    b = 0.0\n",
    "    \n",
    "    print(f\"Iniciando entrenamiento con:\")\n",
    "    print(f\"  - Tamaño de imagen: {size}\")\n",
    "    print(f\"  - Normalización: {normalizar}\")\n",
    "    print(f\"  - Alpha: {alpha}\")\n",
    "    print(f\"  - Repeticiones: {repeticiones}\")\n",
    "    print(f\"  - Dimensión de w: {w.shape}\")\n",
    "\n",
    "    # Entrenar el modelo\n",
    "    w_final, b_final, errores = entrenar_descenso_gradiente(carpeta_entrenamiento, w, b, alpha, size=size, \n",
    "                                                            normalizar=normalizar, repeticiones=repeticiones)\n",
    "\n",
    "    # Calcular accuracy en entrenamiento\n",
    "    acc_entrenamiento = calcular_accuracy(carpeta_entrenamiento, w_final, b_final, size=size, normalizar=normalizar)\n",
    "    print(f\"Accuracy en entrenamiento: {acc_entrenamiento:.4f}\")\n",
    "\n",
    "    # Calcular accuracy en testing si se proporciona\n",
    "    if carpeta_testing and os.path.exists(carpeta_testing):\n",
    "        acc_testing = calcular_accuracy(carpeta_testing, w_final, b_final, size=size, normalizar=normalizar)\n",
    "        print(f\"Accuracy en testing: {acc_testing:.4f}\")\n",
    "\n",
    "    # Visualizar entrenamiento\n",
    "    visualizar_entrenamiento(errores)\n",
    "    \n",
    "    return w_final, b_final, errores\n"
   ]
  },
  {
   "cell_type": "code",
   "execution_count": 268,
   "id": "aa45a620-0069-428a-bba1-0d6d1abdd154",
   "metadata": {
    "scrolled": true
   },
   "outputs": [
    {
     "name": "stdout",
     "output_type": "stream",
     "text": [
      "Probando vectorizar_imagen...\n",
      "Vector shape: (4096, 1)\n",
      "Valores min y max: 0.47843137254901963 0.9725490196078431\n",
      "\n",
      "Probando prediccion...\n",
      "Predicción ejemplo: 0.9999985535797778\n",
      "\n",
      "Probando error_cuadratico...\n",
      "Error cuadrático ejemplo: 0.498123158596087\n",
      "\n",
      "Probando derivadas parciales...\n",
      "Derivada parcial w shape: (4096, 1)\n",
      "Derivada parcial b: [[-0.00038448]]\n",
      "\n",
      "Probando actualización...\n",
      "w nuevo shape: (4096, 1)\n",
      "b nuevo: [[3.84479244e-07]]\n",
      "\n",
      "Probando accuracy...\n",
      "Accuracy ejemplo: 0.5013333333333333\n",
      "\n",
      "Entrenando el modelo...\n",
      "\n",
      "Probando matriz de confusión tras entrenamiento...\n",
      "VP: 4 FP: 2 VN: 748 FN: 746\n",
      "\n",
      "Accuracy final:\n",
      "Accuracy: 0.5013333333333333\n"
     ]
    }
   ],
   "source": [
    "import numpy as np\n",
    "from PIL import Image\n",
    "import os\n",
    "import matplotlib.pyplot as plt\n",
    "\n",
    "# (Incluí acá todas tus funciones: vectorizar_imagen, prediccion, error_cuadratico,\n",
    "# derivada_parcial_w, derivada_parcial_b, actualizacion, calcular_accuracy)\n",
    "\n",
    "# --- Copiá tus funciones antes de este bloque ---\n",
    "\n",
    "carpeta_entrenamiento = r\"C:\\Users\\46028205\\Downloads\\TP2_Metodos\\Entrenamiento\"\n",
    "\n",
    "# Tomar una imagen de ejemplo\n",
    "archivos = [f for f in os.listdir(carpeta_entrenamiento) if f.lower().endswith(('.png', '.jpg', '.jpeg'))]\n",
    "if not archivos:\n",
    "    print(\"No se encontraron imágenes en la carpeta de entrenamiento\")\n",
    "    exit()\n",
    "ruta_ejemplo = os.path.join(carpeta_entrenamiento, archivos[0])\n",
    "\n",
    "print(\"Probando vectorizar_imagen...\")\n",
    "vector = vectorizar_imagen(ruta_ejemplo, size=(64, 64), normalizar=True)\n",
    "print(\"Vector shape:\", vector.shape)\n",
    "print(\"Valores min y max:\", vector.min(), vector.max())\n",
    "\n",
    "print(\"\\nProbando prediccion...\")\n",
    "w_test = np.random.randn(64 * 64, 1)\n",
    "b_test = 0.0\n",
    "i_test = np.random.rand(64 * 64, 1)\n",
    "pred = prediccion(i_test, w_test, b_test)\n",
    "print(\"Predicción ejemplo:\", pred)\n",
    "\n",
    "print(\"\\nProbando error_cuadratico...\")\n",
    "error = error_cuadratico(carpeta_entrenamiento, w_test, b_test, size=(64, 64), normalizar=True)\n",
    "print(\"Error cuadrático ejemplo:\", error)\n",
    "\n",
    "print(\"\\nProbando derivadas parciales...\")\n",
    "dw = derivada_parcial_w(carpeta_entrenamiento, w_test, b_test, size=(64, 64), normalizar=True)\n",
    "db = derivada_parcial_b(carpeta_entrenamiento, w_test, b_test, size=(64, 64), normalizar=True)\n",
    "print(\"Derivada parcial w shape:\", dw.shape)\n",
    "print(\"Derivada parcial b:\", db)\n",
    "\n",
    "print(\"\\nProbando actualización...\")\n",
    "w_n, b_n = actualizacion(carpeta_entrenamiento, w_test, b_test, alpha=0.001, size=(64, 64), normalizar=True)\n",
    "print(\"w nuevo shape:\", w_n.shape)\n",
    "print(\"b nuevo:\", b_n)\n",
    "\n",
    "print(\"\\nProbando accuracy...\")\n",
    "acc = calcular_accuracy(carpeta_entrenamiento, w_test, b_test, size=(64, 64), normalizar=True)\n",
    "print(\"Accuracy ejemplo:\", acc)\n",
    "\n",
    "# --- MATRIZ DE CONFUSIÓN ---\n",
    "def evaluar_matriz_confusion(carpeta, w, b, size=(64, 64), normalizar=True):\n",
    "    VP = FP = VN = FN = 0\n",
    "\n",
    "    for archivo in os.listdir(carpeta):\n",
    "        if archivo.lower().endswith(('.png', '.jpg', '.jpeg')):\n",
    "            if archivo.startswith(\"Healthy\"):\n",
    "                d = 0\n",
    "            elif archivo.startswith(\"Parkinson\"):\n",
    "                d = 1\n",
    "            else:\n",
    "                continue\n",
    "\n",
    "            ruta = os.path.join(carpeta, archivo)\n",
    "            i = vectorizar_imagen(ruta, size=size, normalizar=normalizar)\n",
    "            pred = prediccion(i, w, b)\n",
    "            clase = 1 if pred >= 0.5 else 0\n",
    "\n",
    "            if clase == 1 and d == 1:\n",
    "                VP += 1\n",
    "            elif clase == 1 and d == 0:\n",
    "                FP += 1\n",
    "            elif clase == 0 and d == 0:\n",
    "                VN += 1\n",
    "            elif clase == 0 and d == 1:\n",
    "                FN += 1\n",
    "\n",
    "    return VP, FP, VN, FN\n",
    "\n",
    "# --- ENTRENAMIENTO Y EVALUACIÓN ---\n",
    "def entrenar(carpeta, w, b, alpha=0.001, epochs=50, size=(64,64), normalizar=True):\n",
    "    for epoch in range(epochs):\n",
    "        w, b = actualizacion(carpeta, w, b, alpha, size=size, normalizar=normalizar)\n",
    "    return w, b\n",
    "\n",
    "print(\"\\nEntrenando el modelo...\")\n",
    "w_entrenado, b_entrenado = entrenar(\n",
    "    carpeta_entrenamiento,\n",
    "    w_test,\n",
    "    b_test,\n",
    "    alpha=0.001,\n",
    "    epochs=50,\n",
    "    size=(64, 64),\n",
    "    normalizar=True\n",
    ")\n",
    "\n",
    "print(\"\\nProbando matriz de confusión tras entrenamiento...\")\n",
    "VP, FP, VN, FN = evaluar_matriz_confusion(\n",
    "    carpeta_entrenamiento,\n",
    "    w_entrenado,\n",
    "    b_entrenado,\n",
    "    size=(64, 64),\n",
    "    normalizar=True\n",
    ")\n",
    "print(\"VP:\", VP, \"FP:\", FP, \"VN:\", VN, \"FN:\", FN)\n",
    "\n",
    "print(\"\\nAccuracy final:\")\n",
    "acc_final = calcular_accuracy(\n",
    "    carpeta_entrenamiento,\n",
    "    w_entrenado,\n",
    "    b_entrenado,\n",
    "    size=(64, 64),\n",
    "    normalizar=True\n",
    ")\n",
    "print(\"Accuracy:\", acc_final)\n",
    "\n"
   ]
  },
  {
   "cell_type": "code",
   "execution_count": null,
   "id": "496ccf10-b407-4d4f-8ef0-5b4b1e035f48",
   "metadata": {},
   "outputs": [],
   "source": []
  },
  {
   "cell_type": "code",
   "execution_count": null,
   "id": "5ec063b4-d183-4802-a96a-222328577a7a",
   "metadata": {},
   "outputs": [],
   "source": []
  },
  {
   "cell_type": "code",
   "execution_count": null,
   "id": "abbf6755-1880-43e5-ba4b-785364a97758",
   "metadata": {},
   "outputs": [],
   "source": []
  },
  {
   "cell_type": "code",
   "execution_count": null,
   "id": "275deb23-b02c-4386-b776-4635574b5491",
   "metadata": {},
   "outputs": [],
   "source": []
  }
 ],
 "metadata": {
  "kernelspec": {
   "display_name": "Python 3 (ipykernel)",
   "language": "python",
   "name": "python3"
  },
  "language_info": {
   "codemirror_mode": {
    "name": "ipython",
    "version": 3
   },
   "file_extension": ".py",
   "mimetype": "text/x-python",
   "name": "python",
   "nbconvert_exporter": "python",
   "pygments_lexer": "ipython3",
   "version": "3.12.7"
  }
 },
 "nbformat": 4,
 "nbformat_minor": 5
}
