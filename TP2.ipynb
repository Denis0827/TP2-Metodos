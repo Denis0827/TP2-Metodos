{
 "cells": [
  {
   "cell_type": "code",
   "execution_count": 1,
   "id": "f78cc988-6e22-4236-bf2b-bb74a23c5218",
   "metadata": {},
   "outputs": [
    {
     "ename": "FileNotFoundError",
     "evalue": "[WinError 3] El sistema no puede encontrar la ruta especificada: 'C:\\\\Users\\\\josef\\\\OneDrive\\\\Documentos\\\\metodos\\\\TP2_Metodos'",
     "output_type": "error",
     "traceback": [
      "\u001b[1;31m---------------------------------------------------------------------------\u001b[0m",
      "\u001b[1;31mFileNotFoundError\u001b[0m                         Traceback (most recent call last)",
      "Cell \u001b[1;32mIn[1], line 6\u001b[0m\n\u001b[0;32m      3\u001b[0m \u001b[38;5;28;01mimport\u001b[39;00m \u001b[38;5;21;01mnumpy\u001b[39;00m \u001b[38;5;28;01mas\u001b[39;00m \u001b[38;5;21;01mnp\u001b[39;00m\n\u001b[0;32m      4\u001b[0m \u001b[38;5;28;01mimport\u001b[39;00m \u001b[38;5;21;01mos\u001b[39;00m\n\u001b[1;32m----> 6\u001b[0m os\u001b[38;5;241m.\u001b[39mchdir(\u001b[38;5;124mr\u001b[39m\u001b[38;5;124m\"\u001b[39m\u001b[38;5;124mC:\u001b[39m\u001b[38;5;124m\\\u001b[39m\u001b[38;5;124mUsers\u001b[39m\u001b[38;5;124m\\\u001b[39m\u001b[38;5;124mjosef\u001b[39m\u001b[38;5;124m\\\u001b[39m\u001b[38;5;124mOneDrive\u001b[39m\u001b[38;5;124m\\\u001b[39m\u001b[38;5;124mDocumentos\u001b[39m\u001b[38;5;124m\\\u001b[39m\u001b[38;5;124mmetodos\u001b[39m\u001b[38;5;124m\\\u001b[39m\u001b[38;5;124mTP2_Metodos\u001b[39m\u001b[38;5;124m\"\u001b[39m)\n\u001b[0;32m      7\u001b[0m \u001b[38;5;28mprint\u001b[39m(\u001b[38;5;124m\"\u001b[39m\u001b[38;5;124mAhora estás en:\u001b[39m\u001b[38;5;124m\"\u001b[39m, os\u001b[38;5;241m.\u001b[39mgetcwd())\n",
      "\u001b[1;31mFileNotFoundError\u001b[0m: [WinError 3] El sistema no puede encontrar la ruta especificada: 'C:\\\\Users\\\\josef\\\\OneDrive\\\\Documentos\\\\metodos\\\\TP2_Metodos'"
     ]
    }
   ],
   "source": [
    "from PIL import Image\n",
    "from pathlib import Path\n",
    "import numpy as np\n",
    "import os\n",
    "\n",
    "os.chdir(r\"C:\\Users\\josef\\OneDrive\\Documentos\\metodos\\TP2_Metodos\")\n",
    "print(\"Ahora estás en:\", os.getcwd())\n"
   ]
  },
  {
   "cell_type": "markdown",
   "id": "6e855833-9fc8-4a60-bfa9-e9c14dea761b",
   "metadata": {},
   "source": [
    "Función para vectorizar la imagen en 256x256x1"
   ]
  },
  {
   "cell_type": "code",
   "execution_count": 22,
   "id": "370fa3bd-8025-4ce7-b643-c93902283e3b",
   "metadata": {},
   "outputs": [],
   "source": [
    "def vectorizar_imagen(ruta, size=(256, 256), normalizar=False):\n",
    "    img = Image.open(ruta) \n",
    "    img = img.resize(size) # redimensiona la imagen\n",
    "    gray = img.convert('L') # transforma a escala de grises\n",
    "    vector = np.array(gray).flatten().reshape(-1, 1)\n",
    "    \n",
    "    if normalizar: # normalizar el vector\n",
    "        vector = vector / 255.0\n",
    "\n",
    "    return vector"
   ]
  },
  {
   "cell_type": "markdown",
   "id": "8da596a9-60a5-4f84-936a-1ac7d0b9f665",
   "metadata": {},
   "source": [
    "Función para calcular la predicción del modelo"
   ]
  },
  {
   "cell_type": "code",
   "execution_count": 23,
   "id": "657e31e4-a6e5-4990-87ed-3c5860743d4f",
   "metadata": {},
   "outputs": [],
   "source": [
    "def prediccion(i, w, b):\n",
    "    z = np.dot(w.T, i) + b  # w.T tiene shape (1, 65536)\n",
    "    return (np.tanh(z) + 1) / 2"
   ]
  },
  {
   "cell_type": "markdown",
   "id": "4d590460-67a0-49cb-a3b0-214a2812e026",
   "metadata": {},
   "source": [
    "Función para calcular el error cuadrático dado un w y b, utilizando el modelo propuesto"
   ]
  },
  {
   "cell_type": "code",
   "execution_count": 24,
   "id": "1f0d6eab-1c94-47cb-aac7-b13b37815e44",
   "metadata": {},
   "outputs": [],
   "source": [
    "def error_cuadratico(carpeta, w, b, size=(256, 256), normalizar=False):\n",
    "    error_total = 0.0\n",
    "    contador = 0\n",
    "    \n",
    "    for archivo in os.listdir(carpeta):\n",
    "        if archivo.lower().endswith(('.png', '.jpg', '.jpeg')):\n",
    "            # si tiene parkison, el diagnóstico es positivo (1), sino es negativo (0)\n",
    "            if archivo.startswith(\"Healthy\"): \n",
    "                d = 0\n",
    "            elif archivo.startswith(\"Parkinson\"):\n",
    "                d = 1\n",
    "            ruta = os.path.join(carpeta, archivo)\n",
    "            i = vectorizar_imagen(ruta, size=size, normalizar=normalizar)\n",
    "            pred = prediccion(i, w, b) # calculo la predicción\n",
    "            error_total += (pred - d) ** 2 # sumo el error parcial al total\n",
    "            contador += 1\n",
    "\n",
    "    return error_total / contador"
   ]
  },
  {
   "cell_type": "markdown",
   "id": "6938f9d7-1898-4b42-a5a1-859e403ec25d",
   "metadata": {},
   "source": [
    "Función para calcular la derivada parcial contra w de la función de pérdida"
   ]
  },
  {
   "cell_type": "code",
   "execution_count": 25,
   "id": "0c4ba29e-aae8-4303-8f68-0f3ab1525eac",
   "metadata": {},
   "outputs": [],
   "source": [
    "def derivada_parcial_w(carpeta, w, b, size=(256, 256), normalizar=False):\n",
    "    derivada_w_total = 0.0\n",
    "    contador = 0\n",
    "    \n",
    "    for archivo in os.listdir(carpeta):\n",
    "        if archivo.lower().endswith(('.png', '.jpg', '.jpeg')):\n",
    "            if archivo.startswith(\"Healthy\"):\n",
    "                d = 0\n",
    "            elif archivo.startswith(\"Parkinson\"):\n",
    "                d = 1\n",
    "            ruta = os.path.join(carpeta, archivo)\n",
    "            i = vectorizar_imagen(ruta, size=size, normalizar=normalizar)\n",
    "            ruta = os.path.join(carpeta, archivo)\n",
    "            z = np.dot(w.T, i) + b\n",
    "            t0 = np.tanh(z)\n",
    "            pred = (t0 + 1) / 2\n",
    "            derivada_w_total += (1 - t0**2) * 0.5 * (pred - d) * i\n",
    "            contador += 1\n",
    "\n",
    "    if contador == 0:\n",
    "        return np.zeros_like(w)\n",
    "    \n",
    "    return derivada_w_total / contador"
   ]
  },
  {
   "cell_type": "markdown",
   "id": "219a6902-064f-4900-87c5-178ba570ba2e",
   "metadata": {},
   "source": [
    "Función para calcular la derivada parcial contra b de la función de pérdida"
   ]
  },
  {
   "cell_type": "code",
   "execution_count": 26,
   "id": "b6c40c86-c4b9-4132-9d8e-b79e33727f08",
   "metadata": {},
   "outputs": [],
   "source": [
    "def derivada_parcial_b(carpeta, w, b, size=(256, 256), normalizar=False):\n",
    "    derivada_b_total = 0.0\n",
    "    contador = 0\n",
    "\n",
    "    for archivo in os.listdir(carpeta):\n",
    "        if archivo.lower().endswith(('.png', '.jpg', '.jpeg')):\n",
    "            if archivo.startswith(\"Healthy\"):\n",
    "                d = 0\n",
    "            elif archivo.startswith(\"Parkinson\"):\n",
    "                d = 1\n",
    "            ruta = os.path.join(carpeta, archivo)\n",
    "            i = vectorizar_imagen(ruta, size=size, normalizar=normalizar)\n",
    "            z = np.dot(w.T, i) + b\n",
    "            t0 = np.tanh(z)\n",
    "            pred = (t0 + 1) / 2\n",
    "            derivada_b_total += (1 - t0**2) * 0.5 * (pred - d)\n",
    "            contador += 1\n",
    "            \n",
    "    if contador == 0:\n",
    "        return 0.0\n",
    "    \n",
    "    return derivada_b_total / contador"
   ]
  },
  {
   "cell_type": "markdown",
   "id": "e9c72cdf-3f57-47e2-bf97-c79e848ab8e4",
   "metadata": {},
   "source": [
    "Función para aplicar la regla de actualización para w y b"
   ]
  },
  {
   "cell_type": "code",
   "execution_count": 27,
   "id": "06ba7a30-617d-46a4-9f89-dd57939c11b4",
   "metadata": {},
   "outputs": [],
   "source": [
    "def actualizacion(carpeta, w, b, alpha, size=(256, 256), normalizar=False):\n",
    "    derivada_w = derivada_parcial_w(carpeta, w, b, size=size, normalizar=normalizar)\n",
    "    derivada_b = derivada_parcial_b(carpeta, w, b, size=size, normalizar=normalizar)\n",
    "    w_nuevo = w - alpha * derivada_w\n",
    "    b_nuevo = b - alpha * derivada_b\n",
    "    return w_nuevo, b_nuevo"
   ]
  },
  {
   "cell_type": "markdown",
   "id": "a1ad0e36-f714-4c50-9309-e258f0ed9038",
   "metadata": {},
   "source": [
    "Función para recorrer por una única iteración el algoritmo de búsqueda"
   ]
  },
  {
   "cell_type": "code",
   "execution_count": 28,
   "id": "8bc86393-0766-47aa-8f1a-dc889dff31be",
   "metadata": {},
   "outputs": [],
   "source": [
    "def entrenar_iteracion_unica(carpeta, w_inicial, b_inicial, alpha, size=(256, 256), normalizar=False):\n",
    "    w = w_inicial\n",
    "    b = b_inicial\n",
    "\n",
    "    for archivo in os.listdir(carpeta):\n",
    "        if archivo.lower().endswith(('.png', '.jpg', '.jpeg')):\n",
    "            ruta = os.path.join(carpeta, archivo)\n",
    "            i = vectorizar_imagen(ruta, size=size, normalizar=normalizar)\n",
    "            (w, b) = actualizacion(carpeta, w, b, alpha, size=size, normalizar=normalizar)\n",
    "\n",
    "    return w, b"
   ]
  },
  {
   "cell_type": "markdown",
   "id": "3c891406-7757-41e9-aa03-b5bb916fef17",
   "metadata": {},
   "source": [
    "Función para repetir el método de descenso de gradiente por cierta cantidad de iteraciones"
   ]
  },
  {
   "cell_type": "code",
   "execution_count": 29,
   "id": "97e8f588-2945-44a4-b3ea-0bbe1dd394a3",
   "metadata": {},
   "outputs": [],
   "source": [
    "def entrenar_descenso_gradiente(carpeta, w_inicial, b_inicial, alpha, size=(256, 256), normalizar=False, repeticiones=1000, epsilon=1e-6):\n",
    "    w = w_inicial.copy()\n",
    "    b = b_inicial\n",
    "    \n",
    "    # Listas para almacenar el historial de errores\n",
    "    errores_entrenamiento = []\n",
    "    \n",
    "    error_anterior = error_cuadratico(carpeta, w, b, size=size, normalizar=normalizar)\n",
    "    errores_entrenamiento.append(error_anterior)\n",
    "    \n",
    "    print(f\"Error inicial: {error_anterior}\")\n",
    "    \n",
    "    for i in range(repeticiones):\n",
    "        # Actualizar parámetros\n",
    "        w, b = actualizacion(carpeta, w, b, alpha, size=size, normalizar=normalizar)\n",
    "        \n",
    "        # Calcular nuevo error\n",
    "        error_actual = error_cuadratico(carpeta, w, b, size=size, normalizar=normalizar)\n",
    "        errores_entrenamiento.append(error_actual)\n",
    "        \n",
    "        # Mostrar progreso cada 100 iteraciones\n",
    "        if i % 100 == 0:\n",
    "            print(f\"Iteración {i}, Error: {error_actual}\")\n",
    "        \n",
    "        # Verificar convergencia\n",
    "        if abs(error_actual - error_anterior) < epsilon:\n",
    "            print(f\"Convergencia alcanzada en la iteración {i}\")\n",
    "            break\n",
    "        \n",
    "        error_anterior = error_actual\n",
    "    \n",
    "    return w, b, errores_entrenamiento"
   ]
  },
  {
   "cell_type": "code",
   "execution_count": 30,
   "id": "d22d9134-13ef-47fc-a5fc-6a37dce943d3",
   "metadata": {},
   "outputs": [
    {
     "name": "stdout",
     "output_type": "stream",
     "text": [
      "Estoy parado en: C:\\Users\\josef\\OneDrive\\Documentos\\metodos\\TP2_Metodos\n"
     ]
    },
    {
     "ename": "KeyboardInterrupt",
     "evalue": "",
     "output_type": "error",
     "traceback": [
      "\u001b[1;31m---------------------------------------------------------------------------\u001b[0m",
      "\u001b[1;31mKeyboardInterrupt\u001b[0m                         Traceback (most recent call last)",
      "Cell \u001b[1;32mIn[30], line 9\u001b[0m\n\u001b[0;32m      7\u001b[0m w \u001b[38;5;241m=\u001b[39m np\u001b[38;5;241m.\u001b[39mrandom\u001b[38;5;241m.\u001b[39mrandn(n, \u001b[38;5;241m1\u001b[39m) \u001b[38;5;241m*\u001b[39m (\u001b[38;5;241m1\u001b[39m \u001b[38;5;241m/\u001b[39m np\u001b[38;5;241m.\u001b[39msqrt(n))\n\u001b[0;32m      8\u001b[0m b \u001b[38;5;241m=\u001b[39m \u001b[38;5;241m0.0\u001b[39m\n\u001b[1;32m----> 9\u001b[0m entrenar_descenso_gradiente(carpeta_imagenes, w_inicial\u001b[38;5;241m=\u001b[39mw, b_inicial\u001b[38;5;241m=\u001b[39mb, alpha\u001b[38;5;241m=\u001b[39m\u001b[38;5;241m0.01\u001b[39m, repeticiones\u001b[38;5;241m=\u001b[39m\u001b[38;5;241m10\u001b[39m, size\u001b[38;5;241m=\u001b[39m(\u001b[38;5;241m256\u001b[39m, \u001b[38;5;241m256\u001b[39m), normalizar\u001b[38;5;241m=\u001b[39m\u001b[38;5;28;01mFalse\u001b[39;00m)\n",
      "Cell \u001b[1;32mIn[29], line 8\u001b[0m, in \u001b[0;36mentrenar_descenso_gradiente\u001b[1;34m(carpeta, w_inicial, b_inicial, alpha, size, normalizar, repeticiones, epsilon)\u001b[0m\n\u001b[0;32m      5\u001b[0m \u001b[38;5;66;03m# Listas para almacenar el historial de errores\u001b[39;00m\n\u001b[0;32m      6\u001b[0m errores_entrenamiento \u001b[38;5;241m=\u001b[39m []\n\u001b[1;32m----> 8\u001b[0m error_anterior \u001b[38;5;241m=\u001b[39m error_cuadratico(carpeta, w, b, size\u001b[38;5;241m=\u001b[39msize, normalizar\u001b[38;5;241m=\u001b[39mnormalizar)\n\u001b[0;32m      9\u001b[0m errores_entrenamiento\u001b[38;5;241m.\u001b[39mappend(error_anterior)\n\u001b[0;32m     11\u001b[0m \u001b[38;5;28mprint\u001b[39m(\u001b[38;5;124mf\u001b[39m\u001b[38;5;124m\"\u001b[39m\u001b[38;5;124mError inicial: \u001b[39m\u001b[38;5;132;01m{\u001b[39;00merror_anterior\u001b[38;5;132;01m}\u001b[39;00m\u001b[38;5;124m\"\u001b[39m)\n",
      "Cell \u001b[1;32mIn[24], line 13\u001b[0m, in \u001b[0;36merror_cuadratico\u001b[1;34m(carpeta, w, b, size, normalizar)\u001b[0m\n\u001b[0;32m     11\u001b[0m     d \u001b[38;5;241m=\u001b[39m \u001b[38;5;241m1\u001b[39m\n\u001b[0;32m     12\u001b[0m ruta \u001b[38;5;241m=\u001b[39m os\u001b[38;5;241m.\u001b[39mpath\u001b[38;5;241m.\u001b[39mjoin(carpeta, archivo)\n\u001b[1;32m---> 13\u001b[0m i \u001b[38;5;241m=\u001b[39m vectorizar_imagen(ruta, size\u001b[38;5;241m=\u001b[39msize, normalizar\u001b[38;5;241m=\u001b[39mnormalizar)\n\u001b[0;32m     14\u001b[0m pred \u001b[38;5;241m=\u001b[39m prediccion(i, w, b) \u001b[38;5;66;03m# calculo la predicción\u001b[39;00m\n\u001b[0;32m     15\u001b[0m error_total \u001b[38;5;241m+\u001b[39m\u001b[38;5;241m=\u001b[39m (pred \u001b[38;5;241m-\u001b[39m d) \u001b[38;5;241m*\u001b[39m\u001b[38;5;241m*\u001b[39m \u001b[38;5;241m2\u001b[39m \u001b[38;5;66;03m# sumo el error parcial al total\u001b[39;00m\n",
      "Cell \u001b[1;32mIn[22], line 3\u001b[0m, in \u001b[0;36mvectorizar_imagen\u001b[1;34m(ruta, size, normalizar)\u001b[0m\n\u001b[0;32m      1\u001b[0m \u001b[38;5;28;01mdef\u001b[39;00m \u001b[38;5;21mvectorizar_imagen\u001b[39m(ruta, size\u001b[38;5;241m=\u001b[39m(\u001b[38;5;241m256\u001b[39m, \u001b[38;5;241m256\u001b[39m), normalizar\u001b[38;5;241m=\u001b[39m\u001b[38;5;28;01mFalse\u001b[39;00m):\n\u001b[0;32m      2\u001b[0m     img \u001b[38;5;241m=\u001b[39m Image\u001b[38;5;241m.\u001b[39mopen(ruta) \n\u001b[1;32m----> 3\u001b[0m     img \u001b[38;5;241m=\u001b[39m img\u001b[38;5;241m.\u001b[39mresize(size) \u001b[38;5;66;03m# redimensiona la imagen\u001b[39;00m\n\u001b[0;32m      4\u001b[0m     gray \u001b[38;5;241m=\u001b[39m img\u001b[38;5;241m.\u001b[39mconvert(\u001b[38;5;124m'\u001b[39m\u001b[38;5;124mL\u001b[39m\u001b[38;5;124m'\u001b[39m) \u001b[38;5;66;03m# transforma a escala de grises\u001b[39;00m\n\u001b[0;32m      5\u001b[0m     vector \u001b[38;5;241m=\u001b[39m np\u001b[38;5;241m.\u001b[39marray(gray)\u001b[38;5;241m.\u001b[39mflatten()\u001b[38;5;241m.\u001b[39mreshape(\u001b[38;5;241m-\u001b[39m\u001b[38;5;241m1\u001b[39m, \u001b[38;5;241m1\u001b[39m)\n",
      "File \u001b[1;32m~\\anaconda3\\Lib\\site-packages\\PIL\\Image.py:2293\u001b[0m, in \u001b[0;36mImage.resize\u001b[1;34m(self, size, resample, box, reducing_gap)\u001b[0m\n\u001b[0;32m   2290\u001b[0m     msg \u001b[38;5;241m=\u001b[39m \u001b[38;5;124m\"\u001b[39m\u001b[38;5;124mreducing_gap must be 1.0 or greater\u001b[39m\u001b[38;5;124m\"\u001b[39m\n\u001b[0;32m   2291\u001b[0m     \u001b[38;5;28;01mraise\u001b[39;00m \u001b[38;5;167;01mValueError\u001b[39;00m(msg)\n\u001b[1;32m-> 2293\u001b[0m \u001b[38;5;28mself\u001b[39m\u001b[38;5;241m.\u001b[39mload()\n\u001b[0;32m   2294\u001b[0m \u001b[38;5;28;01mif\u001b[39;00m box \u001b[38;5;129;01mis\u001b[39;00m \u001b[38;5;28;01mNone\u001b[39;00m:\n\u001b[0;32m   2295\u001b[0m     box \u001b[38;5;241m=\u001b[39m (\u001b[38;5;241m0\u001b[39m, \u001b[38;5;241m0\u001b[39m) \u001b[38;5;241m+\u001b[39m \u001b[38;5;28mself\u001b[39m\u001b[38;5;241m.\u001b[39msize\n",
      "File \u001b[1;32m~\\anaconda3\\Lib\\site-packages\\PIL\\ImageFile.py:293\u001b[0m, in \u001b[0;36mImageFile.load\u001b[1;34m(self)\u001b[0m\n\u001b[0;32m    290\u001b[0m         \u001b[38;5;28;01mraise\u001b[39;00m \u001b[38;5;167;01mOSError\u001b[39;00m(msg)\n\u001b[0;32m    292\u001b[0m b \u001b[38;5;241m=\u001b[39m b \u001b[38;5;241m+\u001b[39m s\n\u001b[1;32m--> 293\u001b[0m n, err_code \u001b[38;5;241m=\u001b[39m decoder\u001b[38;5;241m.\u001b[39mdecode(b)\n\u001b[0;32m    294\u001b[0m \u001b[38;5;28;01mif\u001b[39;00m n \u001b[38;5;241m<\u001b[39m \u001b[38;5;241m0\u001b[39m:\n\u001b[0;32m    295\u001b[0m     \u001b[38;5;28;01mbreak\u001b[39;00m\n",
      "\u001b[1;31mKeyboardInterrupt\u001b[0m: "
     ]
    }
   ],
   "source": [
    "# Ruta relativa segura desde donde está el notebook (Jupyter usa cwd)\n",
    "carpeta_imagenes = os.path.join(\".\", \"Entrenamiento\")\n",
    "print(\"Estoy parado en:\", os.getcwd())\n",
    "\n",
    "\n",
    "n = 256*256\n",
    "w = np.random.randn(n, 1) * (1 / np.sqrt(n))\n",
    "b = 0.0\n",
    "entrenar_descenso_gradiente(carpeta_imagenes, w_inicial=w, b_inicial=b, alpha=0.01, repeticiones=10, size=(256, 256), normalizar=False)\n",
    "# NO SE QUE HACER CON ESTA PARTE"
   ]
  },
  {
   "cell_type": "code",
   "execution_count": null,
   "id": "c3a3396f-8da8-4a60-8b83-53fffd23a1c6",
   "metadata": {},
   "outputs": [],
   "source": [
    "base = os.getcwd()\n"
   ]
  },
  {
   "cell_type": "raw",
   "id": "22e3d295-4ae9-480f-a096-4c677c8bc463",
   "metadata": {},
   "source": [
    "Función para calcular accuracy"
   ]
  },
  {
   "cell_type": "code",
   "execution_count": null,
   "id": "ae008322-39f2-4676-b309-586f82f2f837",
   "metadata": {},
   "outputs": [],
   "source": [
    "def calcular_accuracy(carpeta, w, b, size=(256, 256), normalizar=False, umbral=0.5):\n",
    "    correctos = 0\n",
    "    total = 0\n",
    "    \n",
    "    for archivo in os.listdir(carpeta):\n",
    "        if archivo.lower().endswith(('.png', '.jpg', '.jpeg')):\n",
    "            if archivo.startswith(\"Healthy\"): \n",
    "                d = 0\n",
    "            elif archivo.startswith(\"Parkinson\"):\n",
    "                d = 1            \n",
    "            ruta = os.path.join(carpeta, archivo)\n",
    "            i = vectorizar_imagen(ruta, size=size, normalizar=normalizar)\n",
    "            pred = prediccion(i, w, b)\n",
    "            pred_clase = 1 if pred > umbral else 0\n",
    "                \n",
    "            if pred_clase == d:\n",
    "                correctos += 1\n",
    "            total += 1\n",
    "    \n",
    "    if total == 0:\n",
    "        return 0.0\n",
    "    \n",
    "    return correctos / total"
   ]
  },
  {
   "cell_type": "raw",
   "id": "ddc44d2d-b9c9-4e69-8137-19e9071eddcb",
   "metadata": {},
   "source": [
    "Función para calcular matriz de confusión"
   ]
  },
  {
   "cell_type": "code",
   "execution_count": null,
   "id": "6a476810-f4b2-46e5-aa10-e570a6c8757e",
   "metadata": {},
   "outputs": [],
   "source": [
    "def matriz_confusion(carpeta, w, b, size=(256, 256), normalizar=False, umbral=0.5):\n",
    "    vp = 0\n",
    "    fp = 0\n",
    "    vn = 0\n",
    "    fn = 0\n",
    "    \n",
    "    for archivo in os.listdir(carpeta):\n",
    "        if archivo.lower().endswith(('.png', '.jpg', '.jpeg')):\n",
    "            if archivo.startswith(\"Healthy\"): \n",
    "                d = 0\n",
    "            elif archivo.startswith(\"Parkinson\"):\n",
    "                d = 1\n",
    "\n",
    "            ruta = os.path.join(carpeta, archivo)\n",
    "            i = vectorizar_imagen(ruta, size=size, normalizar=normalizar)\n",
    "            pred = prediccion(i, w, b)\n",
    "            pred_clase = 1 if pred > umbral else 0\n",
    "\n",
    "            if d == 1 and pred_clase == 1:\n",
    "                vp += 1\n",
    "            elif d == 0 and pred_clase == 1:\n",
    "                fp += 1\n",
    "            elif d == 0 and pred_clase == 0:\n",
    "                vn += 1\n",
    "            elif d == 1 and pred_clase == 0:\n",
    "                fn += 1\n",
    "\n",
    "    return vp, fp, vn, fn"
   ]
  },
  {
   "cell_type": "raw",
   "id": "408a702c-793e-4096-ba83-9e25e476437a",
   "metadata": {},
   "source": [
    "Función para visualizar resultados"
   ]
  },
  {
   "cell_type": "code",
   "execution_count": null,
   "id": "63777de6-acd5-457b-a9fe-6a6cd8214d46",
   "metadata": {},
   "outputs": [],
   "source": [
    "def visualizar_entrenamiento(errores):\n",
    "    plt.figure(figsize=(10, 6))\n",
    "    plt.plot(errores)\n",
    "    plt.title('Evolución del Error Durante el Entrenamiento')\n",
    "    plt.xlabel('Iteración')\n",
    "    plt.ylabel('Error Cuadrático')\n",
    "    plt.grid(True)\n",
    "    plt.show()"
   ]
  },
  {
   "cell_type": "raw",
   "id": "27d9075e-667d-4806-a372-f811ade0644c",
   "metadata": {},
   "source": [
    "Función principal para ejecutar el entrenamiento"
   ]
  },
  {
   "cell_type": "code",
   "execution_count": null,
   "id": "2f192d08-2c8e-4618-a6b3-20dc176408b0",
   "metadata": {},
   "outputs": [],
   "source": [
    "def ejecutar_entrenamiento(carpeta_entrenamiento, carpeta_testing=None, size=(256, 256), normalizar=False, alpha=0.01, repeticiones=1000):\n",
    "    # Verificar que la carpeta existe\n",
    "    if not os.path.exists(carpeta_entrenamiento):\n",
    "        print(f\"Error: La carpeta {carpeta_entrenamiento} no existe\")\n",
    "        print(f\"Directorio actual: {os.getcwd()}\")\n",
    "        print(\"Archivos y carpetas disponibles:\")\n",
    "        for item in os.listdir('.'):\n",
    "            print(f\"  - {item}\")\n",
    "        return None, None, None\n",
    "\n",
    "    # Inicializar parámetros\n",
    "    n = size[0] * size[1]\n",
    "    w = np.random.randn(n, 1) * (1 / np.sqrt(n))\n",
    "    b = 0.0\n",
    "    \n",
    "    print(f\"Iniciando entrenamiento con:\")\n",
    "    print(f\"  - Tamaño de imagen: {size}\")\n",
    "    print(f\"  - Normalización: {normalizar}\")\n",
    "    print(f\"  - Alpha: {alpha}\")\n",
    "    print(f\"  - Repeticiones: {repeticiones}\")\n",
    "    print(f\"  - Dimensión de w: {w.shape}\")\n",
    "\n",
    "    # Entrenar el modelo\n",
    "    w_final, b_final, errores = entrenar_descenso_gradiente(carpeta_entrenamiento, w, b, alpha, size=size, \n",
    "                                                            normalizar=normalizar, repeticiones=repeticiones)\n",
    "\n",
    "    # Calcular accuracy en entrenamiento\n",
    "    acc_entrenamiento = calcular_accuracy(carpeta_entrenamiento, w_final, b_final, size=size, normalizar=normalizar)\n",
    "    print(f\"Accuracy en entrenamiento: {acc_entrenamiento:.4f}\")\n",
    "\n",
    "    # Calcular accuracy en testing si se proporciona\n",
    "    if carpeta_testing and os.path.exists(carpeta_testing):\n",
    "        acc_testing = calcular_accuracy(carpeta_testing, w_final, b_final, size=size, normalizar=normalizar)\n",
    "        print(f\"Accuracy en testing: {acc_testing:.4f}\")\n",
    "\n",
    "    # Visualizar entrenamiento\n",
    "    visualizar_entrenamiento(errores)\n",
    "    \n",
    "    return w_final, b_final, errores\n"
   ]
  },
  {
   "cell_type": "code",
   "execution_count": 31,
   "id": "aa45a620-0069-428a-bba1-0d6d1abdd154",
   "metadata": {},
   "outputs": [
    {
     "name": "stdout",
     "output_type": "stream",
     "text": [
      "Probando vectorizar_imagen...\n",
      "Vector shape: (4096, 1)\n",
      "Valores min y max: 0.47843137254901963 0.9725490196078431\n",
      "\n",
      "Probando prediccion...\n",
      "Predicción ejemplo: [[1.]]\n",
      "\n",
      "Probando error_cuadratico...\n",
      "Error cuadrático ejemplo: [[0.5]]\n",
      "\n",
      "Probando derivadas parciales...\n",
      "Derivada parcial w shape: (4096, 1)\n",
      "Derivada parcial b: [[0.]]\n",
      "\n",
      "Probando actualización...\n",
      "w nuevo shape: (4096, 1)\n",
      "b nuevo: [[0.]]\n",
      "\n",
      "Probando accuracy...\n",
      "Accuracy ejemplo: 0.5\n",
      "\n",
      "Probando matriz de confusión...\n"
     ]
    },
    {
     "ename": "NameError",
     "evalue": "name 'tp' is not defined",
     "output_type": "error",
     "traceback": [
      "\u001b[1;31m---------------------------------------------------------------------------\u001b[0m",
      "\u001b[1;31mNameError\u001b[0m                                 Traceback (most recent call last)",
      "Cell \u001b[1;32mIn[31], line 54\u001b[0m\n\u001b[0;32m     51\u001b[0m \u001b[38;5;28mprint\u001b[39m(\u001b[38;5;124m\"\u001b[39m\u001b[38;5;124mAccuracy ejemplo:\u001b[39m\u001b[38;5;124m\"\u001b[39m, acc)\n\u001b[0;32m     53\u001b[0m \u001b[38;5;28mprint\u001b[39m(\u001b[38;5;124m\"\u001b[39m\u001b[38;5;130;01m\\n\u001b[39;00m\u001b[38;5;124mProbando matriz de confusión...\u001b[39m\u001b[38;5;124m\"\u001b[39m)\n\u001b[1;32m---> 54\u001b[0m vp, fp, vn, fn \u001b[38;5;241m=\u001b[39m matriz_confusion(carpeta_entrenamiento, w_test, b_test, size\u001b[38;5;241m=\u001b[39m(\u001b[38;5;241m64\u001b[39m,\u001b[38;5;241m64\u001b[39m), normalizar\u001b[38;5;241m=\u001b[39m\u001b[38;5;28;01mTrue\u001b[39;00m)\n\u001b[0;32m     55\u001b[0m \u001b[38;5;28mprint\u001b[39m(\u001b[38;5;124mf\u001b[39m\u001b[38;5;124m\"\u001b[39m\u001b[38;5;124mVP: \u001b[39m\u001b[38;5;132;01m{\u001b[39;00mvp\u001b[38;5;132;01m}\u001b[39;00m\u001b[38;5;124m, FP: \u001b[39m\u001b[38;5;132;01m{\u001b[39;00mfp\u001b[38;5;132;01m}\u001b[39;00m\u001b[38;5;124m, VN: \u001b[39m\u001b[38;5;132;01m{\u001b[39;00mvn\u001b[38;5;132;01m}\u001b[39;00m\u001b[38;5;124m, FN: \u001b[39m\u001b[38;5;132;01m{\u001b[39;00mfn\u001b[38;5;132;01m}\u001b[39;00m\u001b[38;5;124m\"\u001b[39m)\n",
      "Cell \u001b[1;32mIn[13], line 28\u001b[0m, in \u001b[0;36mmatriz_confusion\u001b[1;34m(carpeta, w, b, size, normalizar, umbral)\u001b[0m\n\u001b[0;32m     25\u001b[0m         \u001b[38;5;28;01melif\u001b[39;00m d \u001b[38;5;241m==\u001b[39m \u001b[38;5;241m1\u001b[39m \u001b[38;5;129;01mand\u001b[39;00m pred_clase \u001b[38;5;241m==\u001b[39m \u001b[38;5;241m0\u001b[39m:\n\u001b[0;32m     26\u001b[0m             fn \u001b[38;5;241m+\u001b[39m\u001b[38;5;241m=\u001b[39m \u001b[38;5;241m1\u001b[39m\n\u001b[1;32m---> 28\u001b[0m \u001b[38;5;28;01mreturn\u001b[39;00m tp, fp, tn, fn\n",
      "\u001b[1;31mNameError\u001b[0m: name 'tp' is not defined"
     ]
    }
   ],
   "source": [
    "import numpy as np\n",
    "from PIL import Image\n",
    "import os\n",
    "import matplotlib.pyplot as plt\n",
    "\n",
    "# (Incluí acá todas tus funciones: vectorizar_imagen, prediccion, error_cuadratico, derivada_parcial_w, derivada_parcial_b, actualizacion, calcular_accuracy, matriz_confusion)\n",
    "\n",
    "# --- Copiá acá todas tus funciones anteriores ---\n",
    "\n",
    "# Para no repetir todo, asumamos que ya las tenés definidas arriba\n",
    "\n",
    "if __name__ == \"__main__\":\n",
    "    carpeta_entrenamiento = r\"C:\\Users\\josef\\OneDrive\\Documentos\\metodos\\TP2_Metodos\\Entrenamiento\"\n",
    "    \n",
    "    # Tomar una imagen de ejemplo\n",
    "    archivos = [f for f in os.listdir(carpeta_entrenamiento) if f.lower().endswith(('.png','.jpg','.jpeg'))]\n",
    "    if not archivos:\n",
    "        print(\"No se encontraron imágenes en la carpeta de entrenamiento\")\n",
    "        exit()\n",
    "    ruta_ejemplo = os.path.join(carpeta_entrenamiento, archivos[0])\n",
    "    \n",
    "    print(\"Probando vectorizar_imagen...\")\n",
    "    vector = vectorizar_imagen(ruta_ejemplo, size=(64,64), normalizar=True)\n",
    "    print(\"Vector shape:\", vector.shape)\n",
    "    print(\"Valores min y max:\", vector.min(), vector.max())\n",
    "    \n",
    "    print(\"\\nProbando prediccion...\")\n",
    "    w_test = np.random.randn(64*64, 1)\n",
    "    b_test = 0.0\n",
    "    i_test = np.random.rand(64*64, 1)\n",
    "    pred = prediccion(i_test, w_test, b_test)\n",
    "    print(\"Predicción ejemplo:\", pred)\n",
    "    \n",
    "    print(\"\\nProbando error_cuadratico...\")\n",
    "    error = error_cuadratico(carpeta_entrenamiento, w_test, b_test, size=(64,64), normalizar=True)\n",
    "    print(\"Error cuadrático ejemplo:\", error)\n",
    "    \n",
    "    print(\"\\nProbando derivadas parciales...\")\n",
    "    dw = derivada_parcial_w(carpeta_entrenamiento, w_test, b_test, size=(64,64), normalizar=True)\n",
    "    db = derivada_parcial_b(carpeta_entrenamiento, w_test, b_test, size=(64,64), normalizar=True)\n",
    "    print(\"Derivada parcial w shape:\", dw.shape)\n",
    "    print(\"Derivada parcial b:\", db)\n",
    "    \n",
    "    print(\"\\nProbando actualización...\")\n",
    "    w_n, b_n = actualizacion(carpeta_entrenamiento, w_test, b_test, alpha=0.001, size=(64,64), normalizar=True)\n",
    "    print(\"w nuevo shape:\", w_n.shape)\n",
    "    print(\"b nuevo:\", b_n)\n",
    "    \n",
    "    print(\"\\nProbando accuracy...\")\n",
    "    acc = calcular_accuracy(carpeta_entrenamiento, w_test, b_test, size=(64,64), normalizar=True)\n",
    "    print(\"Accuracy ejemplo:\", acc)\n",
    "    \n",
    "    print(\"\\nProbando matriz de confusión...\")\n",
    "    vp, fp, vn, fn = matriz_confusion(carpeta_entrenamiento, w_test, b_test, size=(64,64), normalizar=True)\n",
    "    print(f\"VP: {vp}, FP: {fp}, VN: {vn}, FN: {fn}\")"
   ]
  },
  {
   "cell_type": "code",
   "execution_count": null,
   "id": "496ccf10-b407-4d4f-8ef0-5b4b1e035f48",
   "metadata": {},
   "outputs": [],
   "source": []
  },
  {
   "cell_type": "code",
   "execution_count": null,
   "id": "20514af5-6e53-479b-8779-f046405fc5a7",
   "metadata": {},
   "outputs": [],
   "source": []
  },
  {
   "cell_type": "code",
   "execution_count": null,
   "id": "6c3e12a9-48f1-47db-ab9c-6e0ae862102e",
   "metadata": {},
   "outputs": [],
   "source": []
  },
  {
   "cell_type": "code",
   "execution_count": null,
   "id": "486b8b3f-720d-4087-9c0b-9944f9970284",
   "metadata": {},
   "outputs": [],
   "source": []
  },
  {
   "cell_type": "code",
   "execution_count": null,
   "id": "169c04d8-fd38-45f4-af43-d4fe6ee69fac",
   "metadata": {},
   "outputs": [],
   "source": []
  }
 ],
 "metadata": {
  "kernelspec": {
   "display_name": "Python 3 (ipykernel)",
   "language": "python",
   "name": "python3"
  },
  "language_info": {
   "codemirror_mode": {
    "name": "ipython",
    "version": 3
   },
   "file_extension": ".py",
   "mimetype": "text/x-python",
   "name": "python",
   "nbconvert_exporter": "python",
   "pygments_lexer": "ipython3",
   "version": "3.12.7"
  }
 },
 "nbformat": 4,
 "nbformat_minor": 5
}
