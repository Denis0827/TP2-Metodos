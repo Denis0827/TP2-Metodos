{
 "cells": [
  {
   "cell_type": "code",
   "execution_count": null,
   "id": "f78cc988-6e22-4236-bf2b-bb74a23c5218",
   "metadata": {},
   "outputs": [
    {
     "name": "stdout",
     "output_type": "stream",
     "text": [
      "Ahora estás en: C:\\Users\\46028205\\Desktop\\TP2-Metodos\n"
     ]
    }
   ],
   "source": [
    "from PIL import Image\n",
    "from pathlib import Path\n",
    "import numpy as np\n",
    "import os\n",
    "\n",
    "os.chdir(r\"C:\\Users\\46028205\\Desktop\\TP2-Metodos\")\n",
    "\n",
    "print(\"Ahora estás en:\", os.getcwd())\n"
   ]
  },
  {
   "cell_type": "markdown",
   "id": "6e855833-9fc8-4a60-bfa9-e9c14dea761b",
   "metadata": {},
   "source": [
    "Función para vectorizar la imagen en 256x256x1"
   ]
  },
  {
   "cell_type": "code",
   "execution_count": null,
   "id": "370fa3bd-8025-4ce7-b643-c93902283e3b",
   "metadata": {},
   "outputs": [],
   "source": [
    "def vectorizar_imagen(ruta, size=128, normalizar=False):\n",
    "    img = Image.open(ruta) \n",
    "    img = img.convert(\"RGB\").resize((size, size)) # convierte la imagen a RGB y redimensiona la imagen\n",
    "    img = np.array(img) # convierte a array\n",
    "    r = img[:, :, 0] # matriz r\n",
    "    g = img[:, :, 1] # matriz g\n",
    "    b = img[:, :, 2] # matriz b\n",
    "    gray = 0.299*r + 0.587*g + 0.114*b # forma estándar NTSC para pasar RGB a escala de grises\n",
    "    \n",
    "    if normalizar: # normalizar el vector\n",
    "        gray = gray / 255.0\n",
    "    \n",
    "    vector = gray.flatten().reshape(-1, 1) # aplanamos a un vector\n",
    "    \n",
    "    return vector"
   ]
  },
  {
   "cell_type": "markdown",
   "id": "8da596a9-60a5-4f84-936a-1ac7d0b9f665",
   "metadata": {},
   "source": [
    "Función para calcular la predicción del modelo"
   ]
  },
  {
   "cell_type": "code",
   "execution_count": null,
   "id": "657e31e4-a6e5-4990-87ed-3c5860743d4f",
   "metadata": {},
   "outputs": [],
   "source": [
    "def prediccion(i, w, b):\n",
    "    z = np.dot(w.T, i) + b  # w.T tiene shape (1, 65536)\n",
    "    return ((np.tanh(z) + 1) / 2).item()"
   ]
  },
  {
   "cell_type": "code",
   "execution_count": null,
   "id": "1bf48bc7",
   "metadata": {},
   "outputs": [],
   "source": [
    "def inicializar_variables(carpeta_imagenes, w, b, size=128, normalizar=False):\n",
    "    X = [] # guardamos los vectores columna de las imagenes\n",
    "    y = [] # guardamos las etiquetas reales: 0 si es Healthy y 1 si es Parkinson\n",
    "    pred = []\n",
    "    \n",
    "    for archivo in os.listdir(carpeta_imagenes):\n",
    "        if archivo.lower().endswith(('.png', '.jpg', '.jpeg')):\n",
    "            # si tiene parkison, el diagnóstico es positivo (1), sino es negativo (0)\n",
    "            if archivo.startswith(\"Healthy\"): \n",
    "                y.append(0)\n",
    "            elif archivo.startswith(\"Parkinson\"):\n",
    "                y.append(1)\n",
    "        \n",
    "            # vectorizamos la img en escala de grises\n",
    "            ruta = os.path.join(carpeta_imagenes, archivo)\n",
    "            vector_img = vectorizar_imagen(ruta, size, normalizar)\n",
    "            X.append(vector_img)\n",
    "            \n",
    "            pred.append(vector_img, w, b) # calculamos la prediccion para cada vector_img\n",
    "    \n",
    "    X = np.array(X) # ahora es una matriz\n",
    "    y = np.array(y) # ahora es un vector\n",
    "    pred = np.array(pred)\n",
    "    \n",
    "    return X, y, pred"
   ]
  },
  {
   "cell_type": "markdown",
   "id": "4d590460-67a0-49cb-a3b0-214a2812e026",
   "metadata": {},
   "source": [
    "Función para calcular el error cuadrático dado un w y b, utilizando el modelo propuesto"
   ]
  },
  {
   "cell_type": "code",
   "execution_count": null,
   "id": "1f0d6eab-1c94-47cb-aac7-b13b37815e44",
   "metadata": {},
   "outputs": [],
   "source": [
    "def error_cuadratico(pred, y):\n",
    "    return np.mean((pred - y) ** 2)"
   ]
  },
  {
   "cell_type": "markdown",
   "id": "6938f9d7-1898-4b42-a5a1-859e403ec25d",
   "metadata": {},
   "source": [
    "Función para calcular la derivada parcial contra w de la función de pérdida"
   ]
  },
  {
   "cell_type": "code",
   "execution_count": 125,
   "id": "0c4ba29e-aae8-4303-8f68-0f3ab1525eac",
   "metadata": {},
   "outputs": [],
   "source": [
    "def derivada_parcial_w(carpeta, w, b, size=(256, 256), normalizar=True):\n",
    "    derivada_w_total = np.zeros_like(w)\n",
    "    \n",
    "    for archivo in os.listdir(carpeta):\n",
    "        if archivo.lower().endswith(('.png', '.jpg', '.jpeg')):\n",
    "            if archivo.startswith(\"Healthy\"):\n",
    "                d = 0\n",
    "            elif archivo.startswith(\"Parkinson\"):\n",
    "                d = 1\n",
    "\n",
    "            ruta = os.path.join(carpeta, archivo)\n",
    "            i = vectorizar_imagen(ruta, size=size, normalizar=normalizar)\n",
    "            z = np.dot(w.T, i) + b\n",
    "            t0 = np.tanh(z)\n",
    "            pred = (t0 + 1) / 2\n",
    "            derivada_w_total += (1 - t0**2) * (pred - d) * i\n",
    "    \n",
    "    return derivada_w_total"
   ]
  },
  {
   "cell_type": "markdown",
   "id": "219a6902-064f-4900-87c5-178ba570ba2e",
   "metadata": {},
   "source": [
    "Función para calcular la derivada parcial contra b de la función de pérdida"
   ]
  },
  {
   "cell_type": "code",
   "execution_count": 126,
   "id": "b6c40c86-c4b9-4132-9d8e-b79e33727f08",
   "metadata": {},
   "outputs": [],
   "source": [
    "def derivada_parcial_b(carpeta, w, b, size=(256, 256), normalizar=True):\n",
    "    derivada_b_total = 0.0\n",
    "\n",
    "    for archivo in os.listdir(carpeta):\n",
    "        if archivo.lower().endswith(('.png', '.jpg', '.jpeg')):\n",
    "            if archivo.startswith(\"Healthy\"):\n",
    "                d = 0\n",
    "            elif archivo.startswith(\"Parkinson\"):\n",
    "                d = 1\n",
    "            ruta = os.path.join(carpeta, archivo)\n",
    "            i = vectorizar_imagen(ruta, size=size, normalizar=normalizar)\n",
    "            z = np.dot(w.T, i) + b\n",
    "            t0 = np.tanh(z)\n",
    "            pred = (t0 + 1) / 2\n",
    "            derivada_b_total += (1 - t0**2) * (pred - d)\n",
    "    \n",
    "    return (derivada_b_total).item()"
   ]
  },
  {
   "cell_type": "markdown",
   "id": "e9c72cdf-3f57-47e2-bf97-c79e848ab8e4",
   "metadata": {},
   "source": [
    "Función para aplicar la regla de actualización para w y b"
   ]
  },
  {
   "cell_type": "code",
   "execution_count": null,
   "id": "06ba7a30-617d-46a4-9f89-dd57939c11b4",
   "metadata": {},
   "outputs": [],
   "source": [
    "def actualizacion(carpeta, w, b, alpha, size=128, normalizar=True):\n",
    "    derivada_w = derivada_parcial_w(carpeta, w, b, size=size, normalizar=normalizar)\n",
    "    derivada_b = derivada_parcial_b(carpeta, w, b, size=size, normalizar=normalizar)\n",
    "    w_nuevo = w - alpha * derivada_w\n",
    "    b_nuevo = b - alpha * derivada_b\n",
    "    return w_nuevo, b_nuevo"
   ]
  },
  {
   "cell_type": "markdown",
   "id": "a1ad0e36-f714-4c50-9309-e258f0ed9038",
   "metadata": {},
   "source": [
    "Función para recorrer por una única iteración el algoritmo de búsqueda"
   ]
  },
  {
   "cell_type": "markdown",
   "id": "3c891406-7757-41e9-aa03-b5bb916fef17",
   "metadata": {},
   "source": [
    "Función para repetir el método de descenso de gradiente por cierta cantidad de iteraciones"
   ]
  },
  {
   "cell_type": "code",
   "execution_count": 128,
   "id": "97e8f588-2945-44a4-b3ea-0bbe1dd394a3",
   "metadata": {},
   "outputs": [],
   "source": [
    "def entrenar_descenso_gradiente(carpeta, w_inicial, b_inicial, alpha, size=(256, 256), normalizar=True, repeticiones=10, epsilon=0.0000001):\n",
    "    w = w_inicial.copy()\n",
    "    b = b_inicial\n",
    "    \n",
    "    # Listas para almacenar el historial de errores\n",
    "    errores_entrenamiento = []\n",
    "    \n",
    "    error_anterior = error_cuadratico(carpeta, w, b, size=size, normalizar=normalizar)\n",
    "    errores_entrenamiento.append(error_anterior)\n",
    "    \n",
    "    print(f\"Error inicial: {error_anterior}\")\n",
    "    \n",
    "    for i in range(repeticiones):\n",
    "        # Actualizar parámetros\n",
    "        w, b = actualizacion(carpeta, w, b, alpha, size=size, normalizar=normalizar)\n",
    "        \n",
    "        # Calcular nuevo error\n",
    "        error_actual = error_cuadratico(carpeta, w, b, size=size, normalizar=normalizar)\n",
    "        errores_entrenamiento.append(error_actual)\n",
    "        \n",
    "        # Mostrar progreso cada 100 iteraciones\n",
    "        print(f\"Iteración {i}, Error: {error_actual}\")\n",
    "        \n",
    "        # Verificar convergencia\n",
    "        if (abs(error_actual - error_anterior)) < epsilon:\n",
    "            print(f\"Convergencia alcanzada en la iteración {i}\")\n",
    "            break\n",
    "        \n",
    "        error_anterior = error_actual\n",
    "    \n",
    "    return w, b, errores_entrenamiento"
   ]
  },
  {
   "cell_type": "code",
   "execution_count": null,
   "id": "d22d9134-13ef-47fc-a5fc-6a37dce943d3",
   "metadata": {},
   "outputs": [],
   "source": []
  },
  {
   "cell_type": "code",
   "execution_count": 129,
   "id": "c3a3396f-8da8-4a60-8b83-53fffd23a1c6",
   "metadata": {},
   "outputs": [],
   "source": [
    "base = os.getcwd()\n"
   ]
  },
  {
   "cell_type": "raw",
   "id": "22e3d295-4ae9-480f-a096-4c677c8bc463",
   "metadata": {},
   "source": [
    "Función para calcular accuracy"
   ]
  },
  {
   "cell_type": "code",
   "execution_count": 130,
   "id": "ae008322-39f2-4676-b309-586f82f2f837",
   "metadata": {},
   "outputs": [],
   "source": [
    "def calcular_accuracy(carpeta, w, b, size=(256, 256), normalizar=True, umbral=0.5):\n",
    "    correctos = 0\n",
    "    total = 0\n",
    "    \n",
    "    for archivo in os.listdir(carpeta):\n",
    "        if archivo.lower().endswith(('.png', '.jpg', '.jpeg')):\n",
    "            if archivo.startswith(\"Healthy\"): \n",
    "                d = 0\n",
    "            elif archivo.startswith(\"Parkinson\"):\n",
    "                d = 1            \n",
    "            ruta = os.path.join(carpeta, archivo)\n",
    "            i = vectorizar_imagen(ruta, size=size, normalizar=normalizar)\n",
    "            pred = prediccion(i, w, b)\n",
    "            pred_clase = 1 if pred > umbral else 0\n",
    "                \n",
    "            if pred_clase == d:\n",
    "                correctos += 1\n",
    "            total += 1\n",
    "    \n",
    "    if total == 0:\n",
    "        return 0.0\n",
    "    \n",
    "    return correctos / total"
   ]
  },
  {
   "cell_type": "raw",
   "id": "ddc44d2d-b9c9-4e69-8137-19e9071eddcb",
   "metadata": {},
   "source": [
    "Función para calcular matriz de confusión"
   ]
  },
  {
   "cell_type": "code",
   "execution_count": 131,
   "id": "6a476810-f4b2-46e5-aa10-e570a6c8757e",
   "metadata": {},
   "outputs": [],
   "source": [
    "def matriz_confusion(carpeta, w, b, size=(256, 256), normalizar=True, umbral=0.5):\n",
    "    vp = 0\n",
    "    fp = 0\n",
    "    vn = 0\n",
    "    fn = 0\n",
    "    \n",
    "    for archivo in os.listdir(carpeta):\n",
    "        if archivo.lower().endswith(('.png', '.jpg', '.jpeg')):\n",
    "            if archivo.startswith(\"Healthy\"): \n",
    "                d = 0\n",
    "            elif archivo.startswith(\"Parkinson\"):\n",
    "                d = 1\n",
    "\n",
    "            ruta = os.path.join(carpeta, archivo)\n",
    "            i = vectorizar_imagen(ruta, size=size, normalizar=normalizar)\n",
    "            pred = prediccion(i, w, b)\n",
    "            pred_clase = 1 if pred > umbral else 0\n",
    "\n",
    "            if d == 1 and pred_clase == 1:\n",
    "                vp += 1\n",
    "            elif d == 0 and pred_clase == 1:\n",
    "                fp += 1\n",
    "            elif d == 0 and pred_clase == 0:\n",
    "                vn += 1\n",
    "            elif d == 1 and pred_clase == 0:\n",
    "                fn += 1\n",
    "\n",
    "    return vp, fp, vn, fn"
   ]
  },
  {
   "cell_type": "raw",
   "id": "408a702c-793e-4096-ba83-9e25e476437a",
   "metadata": {},
   "source": [
    "Función para visualizar resultados"
   ]
  },
  {
   "cell_type": "code",
   "execution_count": 132,
   "id": "63777de6-acd5-457b-a9fe-6a6cd8214d46",
   "metadata": {},
   "outputs": [],
   "source": [
    "def visualizar_entrenamiento(errores):\n",
    "    plt.figure(figsize=(10, 6))\n",
    "    plt.plot(errores)\n",
    "    plt.title('Evolución del Error Durante el Entrenamiento')\n",
    "    plt.xlabel('Iteración')\n",
    "    plt.ylabel('Error Cuadrático')\n",
    "    plt.grid(True)\n",
    "    plt.show()"
   ]
  },
  {
   "cell_type": "raw",
   "id": "27d9075e-667d-4806-a372-f811ade0644c",
   "metadata": {},
   "source": [
    "Función principal para ejecutar el entrenamiento"
   ]
  },
  {
   "cell_type": "code",
   "execution_count": 133,
   "id": "2f192d08-2c8e-4618-a6b3-20dc176408b0",
   "metadata": {},
   "outputs": [],
   "source": [
    "def ejecutar_entrenamiento(carpeta_entrenamiento, carpeta_testing=None, size=(256, 256), normalizar=True, alpha=0.01, repeticiones=1000):\n",
    "    # Verificar que la carpeta existe\n",
    "    if not os.path.exists(carpeta_entrenamiento):\n",
    "        print(f\"Error: La carpeta {carpeta_entrenamiento} no existe\")\n",
    "        print(f\"Directorio actual: {os.getcwd()}\")\n",
    "        print(\"Archivos y carpetas disponibles:\")\n",
    "        for item in os.listdir('.'):\n",
    "            print(f\"  - {item}\")\n",
    "        return None, None, None\n",
    "\n",
    "    # Inicializar parámetros\n",
    "    n = size[0] * size[1]\n",
    "    w = np.random.randn(n, 1) * (1 / np.sqrt(n))\n",
    "    b = 0.0\n",
    "    \n",
    "    print(f\"Iniciando entrenamiento con:\")\n",
    "    print(f\"  - Tamaño de imagen: {size}\")\n",
    "    print(f\"  - Normalización: {normalizar}\")\n",
    "    print(f\"  - Alpha: {alpha}\")\n",
    "    print(f\"  - Repeticiones: {repeticiones}\")\n",
    "    print(f\"  - Dimensión de w: {w.shape}\")\n",
    "\n",
    "    # Entrenar el modelo\n",
    "    w_final, b_final, errores = entrenar_descenso_gradiente(carpeta_entrenamiento, w, b, alpha, size=size, \n",
    "                                                            normalizar=normalizar, repeticiones=repeticiones)\n",
    "\n",
    "    # Calcular accuracy en entrenamiento\n",
    "    acc_entrenamiento = calcular_accuracy(carpeta_entrenamiento, w_final, b_final, size=size, normalizar=normalizar)\n",
    "    print(f\"Accuracy en entrenamiento: {acc_entrenamiento:.4f}\")\n",
    "\n",
    "    # Calcular accuracy en testing si se proporciona\n",
    "    if carpeta_testing and os.path.exists(carpeta_testing):\n",
    "        acc_testing = calcular_accuracy(carpeta_testing, w_final, b_final, size=size, normalizar=normalizar)\n",
    "        print(f\"Accuracy en testing: {acc_testing:.4f}\")\n",
    "\n",
    "    # Visualizar entrenamiento\n",
    "    visualizar_entrenamiento(errores)\n",
    "    \n",
    "    return w_final, b_final, errores\n"
   ]
  },
  {
   "cell_type": "raw",
   "id": "1b09b868-4846-422b-9d69-c0afed45d26e",
   "metadata": {},
   "source": [
    "if __name__ == \"__main__\":\n",
    "    carpeta_entrenamiento = r\"C:\\Users\\46028205\\Desktop\\TP2-Metodos\\Entrenamiento\"\n",
    "    \n",
    "    archivos = [f for f in os.listdir(carpeta_entrenamiento) if f.lower().endswith(('.png','.jpg','.jpeg'))]\n",
    "    if not archivos:\n",
    "        print(\"No se encontraron imágenes en la carpeta de entrenamiento\")\n",
    "        exit()\n",
    "    \n",
    "    ruta_ejemplo = os.path.join(carpeta_entrenamiento, archivos[0])\n",
    "    vector = vectorizar_imagen(ruta_ejemplo, normalizar=True)\n",
    "    \n",
    "    print(\"Vector shape:\", vector.shape)\n",
    "    print(\"Valores min y max:\", vector.min(), vector.max())\n",
    "\n",
    "    escala = 5 / (128 * np.sqrt(256**2))  # estimación conservadora\n",
    "    w_test = np.random.uniform(-escala, escala, size=(256**2, 1))\n",
    "\n",
    "    b_test = 0.0\n",
    "\n",
    "    pred = prediccion(vector, w_test, b_test)\n",
    "    print(\"Predicción ejemplo:\", pred)\n",
    "    \n",
    "    error = error_cuadratico(carpeta_entrenamiento, w_test, b_test, normalizar=True)\n",
    "    print(\"Error cuadrático ejemplo:\", error)\n",
    "    \n",
    "    dw = derivada_parcial_w(carpeta_entrenamiento, w_test, b_test, normalizar=True)\n",
    "    db = derivada_parcial_b(carpeta_entrenamiento, w_test, b_test, normalizar=True)\n",
    "    print(\"Derivada parcial w - norma:\", np.linalg.norm(dw))\n",
    "    print(\"Derivada parcial b:\", db)\n",
    "\n",
    "    alpha = 1e-3 / np.linalg.norm(dw)\n",
    "    w_n, b_n = actualizacion(carpeta_entrenamiento, w_test, b_test, alpha=alpha, normalizar=True)\n",
    "    print(\"Cambio relativo en w:\", np.linalg.norm(w_n - w_test) / np.linalg.norm(w_test))\n",
    "    print(\"Nuevo b:\", b_n)\n",
    "\n",
    "    print(\"\\nProbando accuracy...\")\n",
    "    acc = calcular_accuracy(carpeta_entrenamiento, w_n, b_n, normalizar=True)\n",
    "    print(\"Accuracy ejemplo:\", acc)\n",
    "    \n",
    "    print(\"\\nProbando matriz de confusión...\")\n",
    "    vp, fp, vn, fn = matriz_confusion(carpeta_entrenamiento, w_n, b_n, normalizar=True)\n",
    "    print(f\"VP: {vp}, FP: {fp}, VN: {vn}, FN: {fn}\")\n",
    "\n",
    "    w_nuevo, b_nuevo, errores = entrenar_descenso_gradiente(carpeta_entrenamiento, w_test, b_test, alpha=0.001)\n",
    "\n",
    "    print(\"\\nProbando accuracy...\")\n",
    "    acc = calcular_accuracy(carpeta_entrenamiento, w_nuevo, b_nuevo, normalizar=True)\n",
    "    print(\"Accuracy ejemplo:\", acc)\n",
    "    \n",
    "    print(\"\\nProbando matriz de confusión...\")\n",
    "    vp, fp, vn, fn = matriz_confusion(carpeta_entrenamiento, w_nuevo, b_nuevo, normalizar=True)\n",
    "    print(f\"VP: {vp}, FP: {fp}, VN: {vn}, FN: {fn}\")\n",
    "\n",
    "    print(\"\\nPesos finales w:\")\n",
    "    print(w_test)\n",
    "    print(w_n)\n",
    "    print(w_nuevo)"
   ]
  },
  {
   "cell_type": "raw",
   "id": "8ccf1483-9c03-4382-bab0-bfb349fb13b6",
   "metadata": {},
   "source": [
    "Segunda parte"
   ]
  },
  {
   "cell_type": "code",
   "execution_count": 134,
   "id": "496ccf10-b407-4d4f-8ef0-5b4b1e035f48",
   "metadata": {},
   "outputs": [],
   "source": [
    "def prediccion_sigmoide(i, w, b):\n",
    "    z = np.dot(w.T, i) + b\n",
    "    return 1 / (1 + np.exp(-z))"
   ]
  },
  {
   "cell_type": "code",
   "execution_count": 135,
   "id": "9e8e19b4-2eeb-45ca-9281-9609df3253ea",
   "metadata": {},
   "outputs": [],
   "source": [
    "def derivada_logverosimilitud_w(carpeta, w, b, size=(256, 256), normalizar=True):\n",
    "    derivada_w_total = np.zeros_like(w)\n",
    "\n",
    "    for archivo in os.listdir(carpeta):\n",
    "        if archivo.lower().endswith(('.png', '.jpg', '.jpeg')):\n",
    "            if archivo.startswith(\"Healthy\"):\n",
    "                d = 0\n",
    "            elif archivo.startswith(\"Parkinson\"):\n",
    "                d = 1\n",
    "            else:\n",
    "                continue\n",
    "\n",
    "            ruta = os.path.join(carpeta, archivo)\n",
    "            i = vectorizar_imagen(ruta, size=size, normalizar=normalizar)\n",
    "            # Solo imprimir para 1% de los casos para no saturar consola\n",
    "            if np.random.rand() < 0.01:\n",
    "                print(f\"[DEBUG] Media: {np.mean(i):.4f} | Max: {np.max(i):.4f} | Min: {np.min(i):.4f}\")\n",
    "\n",
    "            pred = prediccion_sigmoide(i, w, b)\n",
    "\n",
    "            derivada_w_total += (pred - d) * i\n",
    "\n",
    "    return derivada_w_total"
   ]
  },
  {
   "cell_type": "code",
   "execution_count": 136,
   "id": "f5a94f63-93fb-4856-bbd9-1b64fcbfcb85",
   "metadata": {},
   "outputs": [],
   "source": [
    "def derivada_logverosimilitud_b(carpeta, w, b, size=(256, 256), normalizar=True):\n",
    "    derivada_b_total = 0.0\n",
    "\n",
    "    for archivo in os.listdir(carpeta):\n",
    "        if archivo.lower().endswith(('.png', '.jpg', '.jpeg')):\n",
    "            if archivo.startswith(\"Healthy\"):\n",
    "                d = 0\n",
    "            elif archivo.startswith(\"Parkinson\"):\n",
    "                d = 1\n",
    "            else:\n",
    "                continue\n",
    "\n",
    "            ruta = os.path.join(carpeta, archivo)\n",
    "            i = vectorizar_imagen(ruta, size=size, normalizar=normalizar)\n",
    "            pred = prediccion_sigmoide(i, w, b)\n",
    "\n",
    "            derivada_b_total += (pred - d)\n",
    "\n",
    "    return derivada_b_total"
   ]
  },
  {
   "cell_type": "code",
   "execution_count": 137,
   "id": "b259dd38-259e-46b0-afde-366137f7a19b",
   "metadata": {},
   "outputs": [],
   "source": [
    "def entrenamiento_ascenso_gradiente(\n",
    "    carpeta_entrenamiento, \n",
    "    w_inicial, \n",
    "    b_inicial, \n",
    "    alpha=0.01, \n",
    "    epochs=100, \n",
    "    size=(64, 64), \n",
    "    normalizar=True,\n",
    "    verbose=True\n",
    "):\n",
    "    w = w_inicial.copy()\n",
    "    b = b_inicial\n",
    "\n",
    "    historial_costos = []\n",
    "\n",
    "    for epoch in range(epochs):\n",
    "        # Derivadas\n",
    "        grad_w = derivada_logverosimilitud_w(carpeta_entrenamiento, w, b, size=size, normalizar=normalizar)\n",
    "        grad_b = derivada_logverosimilitud_b(carpeta_entrenamiento, w, b, size=size, normalizar=normalizar)\n",
    "\n",
    "        # Actualización por ASCENSO (por eso se suma)\n",
    "        w += alpha * grad_w\n",
    "        b += alpha * grad_b\n",
    "\n",
    "        # Calcular y guardar costo para esta época\n",
    "        costo = logverosimilitud_total(carpeta_entrenamiento, w, b, size=size, normalizar=normalizar)\n",
    "        historial_costos.append(costo)\n",
    "\n",
    "        if verbose and (epoch % 10 == 0 or epoch == epochs - 1):\n",
    "            print(f\"Epoch {epoch + 1}/{epochs} - logverosimilitud = {-costo:.4f}\")\n",
    "\n",
    "    return w, b, historial_costos"
   ]
  },
  {
   "cell_type": "code",
   "execution_count": 138,
   "id": "ff567eb0-b0f5-422f-8897-39b82bee93ae",
   "metadata": {},
   "outputs": [],
   "source": [
    "def logverosimilitud_total(carpeta, w, b, size=(64, 64), normalizar=True):\n",
    "    total = 0.0\n",
    "\n",
    "    for archivo in os.listdir(carpeta):\n",
    "        if archivo.lower().endswith(('.png', '.jpg', '.jpeg')):\n",
    "            if archivo.startswith(\"Healthy\"):\n",
    "                d = 0\n",
    "            elif archivo.startswith(\"Parkinson\"):\n",
    "                d = 1\n",
    "            else:\n",
    "                continue\n",
    "\n",
    "            ruta = os.path.join(carpeta, archivo)\n",
    "            i = vectorizar_imagen(ruta, size=size, normalizar=normalizar)\n",
    "            pred = prediccion(i, w, b)\n",
    "\n",
    "            # Estabilizamos para evitar log(0)\n",
    "            pred = np.clip(pred, 1e-10, 1 - 1e-10)\n",
    "\n",
    "            total += d * np.log(pred) + (1 - d) * np.log(1 - pred)\n",
    "\n",
    "    return total  # Ojo: no lo multiplicamos por -1 aquí. Se hace en el print"
   ]
  },
  {
   "cell_type": "raw",
   "id": "bbc14733-cb64-4131-9e18-1c3e87077f42",
   "metadata": {},
   "source": [
    "# Suponiendo que K = cantidad de píxeles (ej. 64x64 = 4096)\n",
    "K = 64 * 64  # o lo que uses\n",
    "w0 = np.random.uniform(-0.1, 0.1, size=(K, 1))\n",
    "b0 = 0.0\n",
    "\n",
    "w_entrenado, b_entrenado, costos = entrenamiento_ascenso_gradiente(\n",
    "    carpeta_entrenamiento= r\"C:\\Users\\46028205\\Desktop\\TP2-Metodos\\Entrenamiento\",\n",
    "    w_inicial=w0,\n",
    "    b_inicial=b0,\n",
    "    alpha=0.01,\n",
    "    epochs=100,\n",
    "    size=(64, 64),\n",
    "    normalizar=True\n",
    ")"
   ]
  },
  {
   "cell_type": "code",
   "execution_count": 139,
   "id": "82969792-d6b8-4322-8e53-7b1bf7983b4e",
   "metadata": {},
   "outputs": [],
   "source": [
    "def accuracy_total(carpeta, w, b, size=(64, 64), normalizar=True, threshold=0.5):\n",
    "    total = 0\n",
    "    correctos = 0\n",
    "\n",
    "    for archivo in os.listdir(carpeta):\n",
    "        if archivo.lower().endswith(('.png', '.jpg', '.jpeg')):\n",
    "            if archivo.startswith(\"Healthy\"):\n",
    "                d = 0\n",
    "            elif archivo.startswith(\"Parkinson\"):\n",
    "                d = 1\n",
    "            else:\n",
    "                continue\n",
    "\n",
    "            ruta = os.path.join(carpeta, archivo)\n",
    "            i = vectorizar_imagen(ruta, size=size, normalizar=normalizar)\n",
    "            pred = prediccion_sigmoide(i, w, b)\n",
    "\n",
    "            # Clasificación binaria\n",
    "            pred_clasificado = int(pred >= threshold)\n",
    "            if pred_clasificado == d:\n",
    "                correctos += 1\n",
    "            total += 1\n",
    "\n",
    "    return correctos / total if total > 0 else 0\n"
   ]
  },
  {
   "cell_type": "code",
   "execution_count": 140,
   "id": "e2f76ecc-521b-43e5-8a2f-6348faf46808",
   "metadata": {},
   "outputs": [
    {
     "name": "stdout",
     "output_type": "stream",
     "text": [
      "Vector shape: (4096, 1)\n",
      "Valores min y max: 0.47843137254901963 0.9725490196078431\n",
      "Predicción ejemplo: [[0.11040582]]\n",
      "Log-verosimilitud total: -2857.148270226749\n"
     ]
    },
    {
     "name": "stderr",
     "output_type": "stream",
     "text": [
      "C:\\Users\\46028205\\AppData\\Local\\Temp\\ipykernel_7444\\2546883998.py:19: DeprecationWarning: Conversion of an array with ndim > 0 to a scalar is deprecated, and will error in future. Ensure you extract a single element from your array before performing this operation. (Deprecated NumPy 1.25.)\n",
      "  pred_clasificado = int(pred >= threshold)\n"
     ]
    },
    {
     "name": "stdout",
     "output_type": "stream",
     "text": [
      "Accuracy inicial: 0.5\n",
      "[DEBUG] Media: 0.9020 | Max: 0.9412 | Min: 0.7059\n",
      "[DEBUG] Media: 0.8976 | Max: 0.9529 | Min: 0.6000\n",
      "[DEBUG] Media: 0.7423 | Max: 0.8392 | Min: 0.5373\n",
      "[DEBUG] Media: 0.7260 | Max: 0.8471 | Min: 0.3843\n",
      "[DEBUG] Media: 0.9072 | Max: 0.9608 | Min: 0.5922\n",
      "[DEBUG] Media: 0.8900 | Max: 0.9608 | Min: 0.4392\n",
      "[DEBUG] Media: 0.9128 | Max: 0.9569 | Min: 0.6667\n",
      "[DEBUG] Media: 0.9017 | Max: 0.9647 | Min: 0.5490\n",
      "[DEBUG] Media: 0.9079 | Max: 0.9569 | Min: 0.7020\n",
      "[DEBUG] Media: 0.8959 | Max: 0.9647 | Min: 0.5137\n",
      "[DEBUG] Media: 0.7371 | Max: 0.8431 | Min: 0.5176\n",
      "[DEBUG] Media: 0.9156 | Max: 0.9569 | Min: 0.7059\n",
      "[DEBUG] Media: 0.8911 | Max: 0.9490 | Min: 0.6471\n",
      "[DEBUG] Media: 0.7229 | Max: 0.8510 | Min: 0.2824\n",
      "[DEBUG] Media: 0.7297 | Max: 0.8510 | Min: 0.4510\n"
     ]
    },
    {
     "name": "stderr",
     "output_type": "stream",
     "text": [
      "C:\\Users\\46028205\\AppData\\Local\\Temp\\ipykernel_7444\\1782004142.py:3: RuntimeWarning: overflow encountered in exp\n",
      "  return 1 / (1 + np.exp(-z))\n"
     ]
    },
    {
     "name": "stdout",
     "output_type": "stream",
     "text": [
      "Epoch 1/100 - logL = 17269.39 | acc_train = 0.500 | acc_test = 0.500\n"
     ]
    },
    {
     "data": {
      "image/png": "[encoded data removed]",
      "text/plain": [
       "<Figure size 800x400 with 1 Axes>"
      ]
     },
     "metadata": {},
     "output_type": "display_data"
    },
    {
     "ename": "ValueError",
     "evalue": "x and y must have same first dimension, but have shapes (11,) and (1,)",
     "output_type": "error",
     "traceback": [
      "\u001b[1;31m---------------------------------------------------------------------------\u001b[0m",
      "\u001b[1;31mValueError\u001b[0m                                Traceback (most recent call last)",
      "Cell \u001b[1;32mIn[140], line 88\u001b[0m\n\u001b[0;32m     85\u001b[0m     x\u001b[38;5;241m.\u001b[39mappend(epochs \u001b[38;5;241m-\u001b[39m \u001b[38;5;241m1\u001b[39m)\n\u001b[0;32m     87\u001b[0m plt\u001b[38;5;241m.\u001b[39mfigure(figsize\u001b[38;5;241m=\u001b[39m(\u001b[38;5;241m8\u001b[39m, \u001b[38;5;241m4\u001b[39m))\n\u001b[1;32m---> 88\u001b[0m plt\u001b[38;5;241m.\u001b[39mplot(x, acc_train_hist, label\u001b[38;5;241m=\u001b[39m\u001b[38;5;124m\"\u001b[39m\u001b[38;5;124mTrain Accuracy\u001b[39m\u001b[38;5;124m\"\u001b[39m)\n\u001b[0;32m     89\u001b[0m plt\u001b[38;5;241m.\u001b[39mplot(x, acc_test_hist, label\u001b[38;5;241m=\u001b[39m\u001b[38;5;124m\"\u001b[39m\u001b[38;5;124mTest Accuracy\u001b[39m\u001b[38;5;124m\"\u001b[39m)\n\u001b[0;32m     90\u001b[0m plt\u001b[38;5;241m.\u001b[39mxlabel(\u001b[38;5;124m\"\u001b[39m\u001b[38;5;124mEpoch\u001b[39m\u001b[38;5;124m\"\u001b[39m)\n",
      "File \u001b[1;32mC:\\ProgramData\\anaconda3\\Lib\\site-packages\\matplotlib\\pyplot.py:3794\u001b[0m, in \u001b[0;36mplot\u001b[1;34m(scalex, scaley, data, *args, **kwargs)\u001b[0m\n\u001b[0;32m   3786\u001b[0m \u001b[38;5;129m@_copy_docstring_and_deprecators\u001b[39m(Axes\u001b[38;5;241m.\u001b[39mplot)\n\u001b[0;32m   3787\u001b[0m \u001b[38;5;28;01mdef\u001b[39;00m \u001b[38;5;21mplot\u001b[39m(\n\u001b[0;32m   3788\u001b[0m     \u001b[38;5;241m*\u001b[39margs: \u001b[38;5;28mfloat\u001b[39m \u001b[38;5;241m|\u001b[39m ArrayLike \u001b[38;5;241m|\u001b[39m \u001b[38;5;28mstr\u001b[39m,\n\u001b[1;32m   (...)\u001b[0m\n\u001b[0;32m   3792\u001b[0m     \u001b[38;5;241m*\u001b[39m\u001b[38;5;241m*\u001b[39mkwargs,\n\u001b[0;32m   3793\u001b[0m ) \u001b[38;5;241m-\u001b[39m\u001b[38;5;241m>\u001b[39m \u001b[38;5;28mlist\u001b[39m[Line2D]:\n\u001b[1;32m-> 3794\u001b[0m     \u001b[38;5;28;01mreturn\u001b[39;00m gca()\u001b[38;5;241m.\u001b[39mplot(\n\u001b[0;32m   3795\u001b[0m         \u001b[38;5;241m*\u001b[39margs,\n\u001b[0;32m   3796\u001b[0m         scalex\u001b[38;5;241m=\u001b[39mscalex,\n\u001b[0;32m   3797\u001b[0m         scaley\u001b[38;5;241m=\u001b[39mscaley,\n\u001b[0;32m   3798\u001b[0m         \u001b[38;5;241m*\u001b[39m\u001b[38;5;241m*\u001b[39m({\u001b[38;5;124m\"\u001b[39m\u001b[38;5;124mdata\u001b[39m\u001b[38;5;124m\"\u001b[39m: data} \u001b[38;5;28;01mif\u001b[39;00m data \u001b[38;5;129;01mis\u001b[39;00m \u001b[38;5;129;01mnot\u001b[39;00m \u001b[38;5;28;01mNone\u001b[39;00m \u001b[38;5;28;01melse\u001b[39;00m {}),\n\u001b[0;32m   3799\u001b[0m         \u001b[38;5;241m*\u001b[39m\u001b[38;5;241m*\u001b[39mkwargs,\n\u001b[0;32m   3800\u001b[0m     )\n",
      "File \u001b[1;32mC:\\ProgramData\\anaconda3\\Lib\\site-packages\\matplotlib\\axes\\_axes.py:1779\u001b[0m, in \u001b[0;36mAxes.plot\u001b[1;34m(self, scalex, scaley, data, *args, **kwargs)\u001b[0m\n\u001b[0;32m   1536\u001b[0m \u001b[38;5;250m\u001b[39m\u001b[38;5;124;03m\"\"\"\u001b[39;00m\n\u001b[0;32m   1537\u001b[0m \u001b[38;5;124;03mPlot y versus x as lines and/or markers.\u001b[39;00m\n\u001b[0;32m   1538\u001b[0m \n\u001b[1;32m   (...)\u001b[0m\n\u001b[0;32m   1776\u001b[0m \u001b[38;5;124;03m(``'green'``) or hex strings (``'#008000'``).\u001b[39;00m\n\u001b[0;32m   1777\u001b[0m \u001b[38;5;124;03m\"\"\"\u001b[39;00m\n\u001b[0;32m   1778\u001b[0m kwargs \u001b[38;5;241m=\u001b[39m cbook\u001b[38;5;241m.\u001b[39mnormalize_kwargs(kwargs, mlines\u001b[38;5;241m.\u001b[39mLine2D)\n\u001b[1;32m-> 1779\u001b[0m lines \u001b[38;5;241m=\u001b[39m [\u001b[38;5;241m*\u001b[39m\u001b[38;5;28mself\u001b[39m\u001b[38;5;241m.\u001b[39m_get_lines(\u001b[38;5;28mself\u001b[39m, \u001b[38;5;241m*\u001b[39margs, data\u001b[38;5;241m=\u001b[39mdata, \u001b[38;5;241m*\u001b[39m\u001b[38;5;241m*\u001b[39mkwargs)]\n\u001b[0;32m   1780\u001b[0m \u001b[38;5;28;01mfor\u001b[39;00m line \u001b[38;5;129;01min\u001b[39;00m lines:\n\u001b[0;32m   1781\u001b[0m     \u001b[38;5;28mself\u001b[39m\u001b[38;5;241m.\u001b[39madd_line(line)\n",
      "File \u001b[1;32mC:\\ProgramData\\anaconda3\\Lib\\site-packages\\matplotlib\\axes\\_base.py:296\u001b[0m, in \u001b[0;36m_process_plot_var_args.__call__\u001b[1;34m(self, axes, data, *args, **kwargs)\u001b[0m\n\u001b[0;32m    294\u001b[0m     this \u001b[38;5;241m+\u001b[39m\u001b[38;5;241m=\u001b[39m args[\u001b[38;5;241m0\u001b[39m],\n\u001b[0;32m    295\u001b[0m     args \u001b[38;5;241m=\u001b[39m args[\u001b[38;5;241m1\u001b[39m:]\n\u001b[1;32m--> 296\u001b[0m \u001b[38;5;28;01myield from\u001b[39;00m \u001b[38;5;28mself\u001b[39m\u001b[38;5;241m.\u001b[39m_plot_args(\n\u001b[0;32m    297\u001b[0m     axes, this, kwargs, ambiguous_fmt_datakey\u001b[38;5;241m=\u001b[39mambiguous_fmt_datakey)\n",
      "File \u001b[1;32mC:\\ProgramData\\anaconda3\\Lib\\site-packages\\matplotlib\\axes\\_base.py:486\u001b[0m, in \u001b[0;36m_process_plot_var_args._plot_args\u001b[1;34m(self, axes, tup, kwargs, return_kwargs, ambiguous_fmt_datakey)\u001b[0m\n\u001b[0;32m    483\u001b[0m     axes\u001b[38;5;241m.\u001b[39myaxis\u001b[38;5;241m.\u001b[39mupdate_units(y)\n\u001b[0;32m    485\u001b[0m \u001b[38;5;28;01mif\u001b[39;00m x\u001b[38;5;241m.\u001b[39mshape[\u001b[38;5;241m0\u001b[39m] \u001b[38;5;241m!=\u001b[39m y\u001b[38;5;241m.\u001b[39mshape[\u001b[38;5;241m0\u001b[39m]:\n\u001b[1;32m--> 486\u001b[0m     \u001b[38;5;28;01mraise\u001b[39;00m \u001b[38;5;167;01mValueError\u001b[39;00m(\u001b[38;5;124mf\u001b[39m\u001b[38;5;124m\"\u001b[39m\u001b[38;5;124mx and y must have same first dimension, but \u001b[39m\u001b[38;5;124m\"\u001b[39m\n\u001b[0;32m    487\u001b[0m                      \u001b[38;5;124mf\u001b[39m\u001b[38;5;124m\"\u001b[39m\u001b[38;5;124mhave shapes \u001b[39m\u001b[38;5;132;01m{\u001b[39;00mx\u001b[38;5;241m.\u001b[39mshape\u001b[38;5;132;01m}\u001b[39;00m\u001b[38;5;124m and \u001b[39m\u001b[38;5;132;01m{\u001b[39;00my\u001b[38;5;241m.\u001b[39mshape\u001b[38;5;132;01m}\u001b[39;00m\u001b[38;5;124m\"\u001b[39m)\n\u001b[0;32m    488\u001b[0m \u001b[38;5;28;01mif\u001b[39;00m x\u001b[38;5;241m.\u001b[39mndim \u001b[38;5;241m>\u001b[39m \u001b[38;5;241m2\u001b[39m \u001b[38;5;129;01mor\u001b[39;00m y\u001b[38;5;241m.\u001b[39mndim \u001b[38;5;241m>\u001b[39m \u001b[38;5;241m2\u001b[39m:\n\u001b[0;32m    489\u001b[0m     \u001b[38;5;28;01mraise\u001b[39;00m \u001b[38;5;167;01mValueError\u001b[39;00m(\u001b[38;5;124mf\u001b[39m\u001b[38;5;124m\"\u001b[39m\u001b[38;5;124mx and y can be no greater than 2D, but have \u001b[39m\u001b[38;5;124m\"\u001b[39m\n\u001b[0;32m    490\u001b[0m                      \u001b[38;5;124mf\u001b[39m\u001b[38;5;124m\"\u001b[39m\u001b[38;5;124mshapes \u001b[39m\u001b[38;5;132;01m{\u001b[39;00mx\u001b[38;5;241m.\u001b[39mshape\u001b[38;5;132;01m}\u001b[39;00m\u001b[38;5;124m and \u001b[39m\u001b[38;5;132;01m{\u001b[39;00my\u001b[38;5;241m.\u001b[39mshape\u001b[38;5;132;01m}\u001b[39;00m\u001b[38;5;124m\"\u001b[39m)\n",
      "\u001b[1;31mValueError\u001b[0m: x and y must have same first dimension, but have shapes (11,) and (1,)"
     ]
    },
    {
     "data": {
      "image/png": "[encoded data removed]",
      "text/plain": [
       "<Figure size 800x400 with 1 Axes>"
      ]
     },
     "metadata": {},
     "output_type": "display_data"
    }
   ],
   "source": [
    "if __name__ == \"__main__\":\n",
    "    import os\n",
    "    import numpy as np\n",
    "    import matplotlib.pyplot as plt\n",
    "\n",
    "    carpeta_entrenamiento = r\"C:\\Users\\46028205\\Desktop\\TP2-Metodos\\Entrenamiento\"\n",
    "\n",
    "    archivos = [f for f in os.listdir(carpeta_entrenamiento) if f.lower().endswith(('.png','.jpg','.jpeg'))]\n",
    "    if not archivos:\n",
    "        print(\"No se encontraron imágenes en la carpeta de entrenamiento\")\n",
    "        exit()\n",
    "\n",
    "    # Probar vectorización con una imagen de ejemplo\n",
    "    ruta_ejemplo = os.path.join(carpeta_entrenamiento, archivos[0])\n",
    "    vector = vectorizar_imagen(ruta_ejemplo, size=(64, 64), normalizar=True)\n",
    "    print(\"Vector shape:\", vector.shape)\n",
    "    print(\"Valores min y max:\", vector.min(), vector.max())\n",
    "\n",
    "    # Inicialización\n",
    "    K = vector.shape[0]\n",
    "    w_test = np.random.uniform(-0.1, 0.1, size=(K, 1))\n",
    "    b_test = 0.0\n",
    "\n",
    "    # Predicción inicial\n",
    "    pred = prediccion_sigmoide(vector, w_test, b_test)\n",
    "    print(\"Predicción ejemplo:\", pred)\n",
    "\n",
    "    # Log-verosimilitud inicial\n",
    "    logL = logverosimilitud_total(carpeta_entrenamiento, w_test, b_test, size=(64, 64), normalizar=True)\n",
    "    print(\"Log-verosimilitud total:\", logL)\n",
    "\n",
    "    # Accuracy inicial\n",
    "    acc = accuracy_total(carpeta_entrenamiento, w_test, b_test, size=(64, 64), normalizar=True)\n",
    "    print(\"Accuracy inicial:\", acc)\n",
    "\n",
    "    # ========================\n",
    "    # ENTRENAMIENTO Y TESTING\n",
    "    # ========================\n",
    "\n",
    "    epochs = 100\n",
    "    alpha = 0.05\n",
    "    interval = 10\n",
    "    historial_costos = []\n",
    "    acc_train_hist = []\n",
    "    acc_test_hist = []\n",
    "\n",
    "    carpeta_testing = r\"C:\\Users\\46028205\\Desktop\\TP2-Metodos\\Testing\"\n",
    "\n",
    "    for epoch in range(epochs):\n",
    "        dw = derivada_logverosimilitud_w(carpeta_entrenamiento, w_test, b_test, size=(64, 64), normalizar=True)\n",
    "        db = derivada_logverosimilitud_b(carpeta_entrenamiento, w_test, b_test, size=(64, 64), normalizar=True)\n",
    "\n",
    "        w_test += alpha * dw\n",
    "        b_test += alpha * db\n",
    "\n",
    "        logL = logverosimilitud_total(carpeta_entrenamiento, w_test, b_test, size=(64, 64), normalizar=True)\n",
    "        historial_costos.append(logL)\n",
    "\n",
    "        if epoch % interval == 0 or epoch == epochs - 1:\n",
    "            acc_train = accuracy_total(carpeta_entrenamiento, w_test, b_test, size=(64, 64), normalizar=True)\n",
    "            acc_test = accuracy_total(carpeta_testing, w_test, b_test, size=(64, 64), normalizar=True)\n",
    "\n",
    "            acc_train_hist.append(acc_train)\n",
    "            acc_test_hist.append(acc_test)\n",
    "\n",
    "            print(f\"Epoch {epoch+1}/{epochs} - logL = {-logL:.2f} | acc_train = {acc_train:.3f} | acc_test = {acc_test:.3f}\")\n",
    "           \n",
    "            # ========================\n",
    "            # VISUALIZACIÓN\n",
    "            # ========================\n",
    "        \n",
    "            # Log-verosimilitud\n",
    "            plt.figure(figsize=(8, 4))\n",
    "            plt.plot(historial_costos)\n",
    "            plt.title(\"Log-verosimilitud total (entrenamiento)\")\n",
    "            plt.xlabel(\"Epoch\")\n",
    "            plt.ylabel(\"logL\")\n",
    "            plt.grid(True)\n",
    "            plt.tight_layout()\n",
    "            plt.show()\n",
    "        \n",
    "            # Accuracy\n",
    "            x = list(range(0, epochs, interval))\n",
    "            if epochs - 1 not in x:\n",
    "                x.append(epochs - 1)\n",
    "        \n",
    "            plt.figure(figsize=(8, 4))\n",
    "            plt.plot(x, acc_train_hist, label=\"Train Accuracy\")\n",
    "            plt.plot(x, acc_test_hist, label=\"Test Accuracy\")\n",
    "            plt.xlabel(\"Epoch\")\n",
    "            plt.ylabel(\"Accuracy\")\n",
    "            plt.ylim(0, 1)\n",
    "            plt.title(\"Accuracy durante el entrenamiento\")\n",
    "            plt.grid(True)\n",
    "            plt.legend()\n",
    "            plt.tight_layout()\n",
    "            plt.show()\n"
   ]
  },
  {
   "cell_type": "code",
   "execution_count": null,
   "id": "12b58c3f-340a-49a3-97d2-6e0d5e767892",
   "metadata": {},
   "outputs": [],
   "source": []
  }
 ],
 "metadata": {
  "kernelspec": {
   "display_name": "Python 3 (ipykernel)",
   "language": "python",
   "name": "python3"
  },
  "language_info": {
   "codemirror_mode": {
    "name": "ipython",
    "version": 3
   },
   "file_extension": ".py",
   "mimetype": "text/x-python",
   "name": "python",
   "nbconvert_exporter": "python",
   "pygments_lexer": "ipython3",
   "version": "3.12.7"
  }
 },
 "nbformat": 4,
 "nbformat_minor": 5
}
